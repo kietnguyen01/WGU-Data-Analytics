{
 "cells": [
  {
   "cell_type": "markdown",
   "id": "a638d9e3-a262-491f-9f7d-d3a116986f71",
   "metadata": {},
   "source": [
    "Kiet Nguyen\n",
    "\n",
    "ID: 001601720\n",
    "\n",
    "Email: kngu179@wgu.edu"
   ]
  },
  {
   "cell_type": "markdown",
   "id": "d5481002-af32-49e7-ae13-689550c44d93",
   "metadata": {},
   "source": [
    "### A. Purpose of Analysis\n",
    "\n",
    "#### A1. Research Question\n",
    "\n",
    "Can we predict whether a customer like or dislike a product on Amazon using reviews by other customers?\n",
    "\n",
    "#### A2. Analysis Goal\n",
    "\n",
    "The goal of this analysis is to analyze and predict how a customer feel toward a product based on the words in the review.\n",
    "\n",
    "#### A3. Type of Neural Network\n",
    "\n",
    "The type of neural network we will be using is Recurrent Neural Network (RNN). RNN is designed to handle sequential data such as texts. It performs the same computations for every element in the sequence and the output depends on whatever elements came before. At each time step, a recurrent neuron produces an output along with a hidden state. These states can be thought of as the memory of the network. This memory allows RNN to consolidate history information and generate accurate predictions (Halder, 2022).\n",
    "\n",
    "### B. Data Cleaning\n",
    "\n",
    "##### Import Libraries"
   ]
  },
  {
   "cell_type": "code",
   "execution_count": 1,
   "id": "f2df3a35-8a87-4362-acef-e1009cdd50d5",
   "metadata": {},
   "outputs": [
    {
     "name": "stderr",
     "output_type": "stream",
     "text": [
      "[nltk_data] Downloading package punkt to\n",
      "[nltk_data]     C:\\Users\\nguye\\AppData\\Roaming\\nltk_data...\n",
      "[nltk_data]   Package punkt is already up-to-date!\n",
      "[nltk_data] Downloading package omw-1.4 to\n",
      "[nltk_data]     C:\\Users\\nguye\\AppData\\Roaming\\nltk_data...\n",
      "[nltk_data]   Package omw-1.4 is already up-to-date!\n",
      "[nltk_data] Downloading package wordnet to\n",
      "[nltk_data]     C:\\Users\\nguye\\AppData\\Roaming\\nltk_data...\n",
      "[nltk_data]   Package wordnet is already up-to-date!\n",
      "[nltk_data] Downloading package stopwords to\n",
      "[nltk_data]     C:\\Users\\nguye\\AppData\\Roaming\\nltk_data...\n",
      "[nltk_data]   Package stopwords is already up-to-date!\n"
     ]
    }
   ],
   "source": [
    "import re\n",
    "import numpy as np\n",
    "import pandas as pd\n",
    "import seaborn as sns\n",
    "import matplotlib.pyplot as plt\n",
    "from sklearn.model_selection import train_test_split\n",
    "\n",
    "import nltk\n",
    "from nltk import word_tokenize\n",
    "from nltk.corpus import stopwords\n",
    "from nltk import WordNetLemmatizer\n",
    "nltk.download('punkt')\n",
    "nltk.download('omw-1.4')\n",
    "nltk.download('wordnet')\n",
    "nltk.download('stopwords')\n",
    "\n",
    "from tensorflow import keras\n",
    "from keras import Sequential\n",
    "from keras.callbacks import EarlyStopping\n",
    "from keras.preprocessing.text import Tokenizer\n",
    "from keras_preprocessing.sequence import pad_sequences\n",
    "from keras.layers import Embedding, Dense, GlobalAveragePooling1D"
   ]
  },
  {
   "cell_type": "markdown",
   "id": "61d3fe8d-af88-489c-9abc-21870ca3a408",
   "metadata": {},
   "source": [
    "##### Import Datasets"
   ]
  },
  {
   "cell_type": "code",
   "execution_count": 2,
   "id": "cfafc067-ca72-4bc0-9396-d523cc69260e",
   "metadata": {},
   "outputs": [],
   "source": [
    "# Load txt files to dataframes\n",
    "df = pd.read_csv('amazon_cells_labelled.txt', delimiter='\\t', header=None)\n",
    "\n",
    "# Assign column names\n",
    "col_names = ['Review', 'Sentiment']\n",
    "df.columns = col_names"
   ]
  },
  {
   "cell_type": "markdown",
   "id": "5a6c8c53-f804-452a-b80f-9def920789bc",
   "metadata": {},
   "source": [
    "#### B1. Exploratory Data Analysis\n",
    "\n",
    "##### Check imported dataset"
   ]
  },
  {
   "cell_type": "code",
   "execution_count": 3,
   "id": "a25a014e-2c34-4833-bf85-758bc7817eb6",
   "metadata": {},
   "outputs": [
    {
     "data": {
      "text/html": [
       "<div>\n",
       "<style scoped>\n",
       "    .dataframe tbody tr th:only-of-type {\n",
       "        vertical-align: middle;\n",
       "    }\n",
       "\n",
       "    .dataframe tbody tr th {\n",
       "        vertical-align: top;\n",
       "    }\n",
       "\n",
       "    .dataframe thead th {\n",
       "        text-align: right;\n",
       "    }\n",
       "</style>\n",
       "<table border=\"1\" class=\"dataframe\">\n",
       "  <thead>\n",
       "    <tr style=\"text-align: right;\">\n",
       "      <th></th>\n",
       "      <th>Review</th>\n",
       "      <th>Sentiment</th>\n",
       "    </tr>\n",
       "  </thead>\n",
       "  <tbody>\n",
       "    <tr>\n",
       "      <th>0</th>\n",
       "      <td>So there is no way for me to plug it in here i...</td>\n",
       "      <td>0</td>\n",
       "    </tr>\n",
       "    <tr>\n",
       "      <th>1</th>\n",
       "      <td>Good case, Excellent value.</td>\n",
       "      <td>1</td>\n",
       "    </tr>\n",
       "    <tr>\n",
       "      <th>2</th>\n",
       "      <td>Great for the jawbone.</td>\n",
       "      <td>1</td>\n",
       "    </tr>\n",
       "    <tr>\n",
       "      <th>3</th>\n",
       "      <td>Tied to charger for conversations lasting more...</td>\n",
       "      <td>0</td>\n",
       "    </tr>\n",
       "    <tr>\n",
       "      <th>4</th>\n",
       "      <td>The mic is great.</td>\n",
       "      <td>1</td>\n",
       "    </tr>\n",
       "    <tr>\n",
       "      <th>...</th>\n",
       "      <td>...</td>\n",
       "      <td>...</td>\n",
       "    </tr>\n",
       "    <tr>\n",
       "      <th>995</th>\n",
       "      <td>The screen does get smudged easily because it ...</td>\n",
       "      <td>0</td>\n",
       "    </tr>\n",
       "    <tr>\n",
       "      <th>996</th>\n",
       "      <td>What a piece of junk.. I lose more calls on th...</td>\n",
       "      <td>0</td>\n",
       "    </tr>\n",
       "    <tr>\n",
       "      <th>997</th>\n",
       "      <td>Item Does Not Match Picture.</td>\n",
       "      <td>0</td>\n",
       "    </tr>\n",
       "    <tr>\n",
       "      <th>998</th>\n",
       "      <td>The only thing that disappoint me is the infra...</td>\n",
       "      <td>0</td>\n",
       "    </tr>\n",
       "    <tr>\n",
       "      <th>999</th>\n",
       "      <td>You can not answer calls with the unit, never ...</td>\n",
       "      <td>0</td>\n",
       "    </tr>\n",
       "  </tbody>\n",
       "</table>\n",
       "<p>1000 rows × 2 columns</p>\n",
       "</div>"
      ],
      "text/plain": [
       "                                                Review  Sentiment\n",
       "0    So there is no way for me to plug it in here i...          0\n",
       "1                          Good case, Excellent value.          1\n",
       "2                               Great for the jawbone.          1\n",
       "3    Tied to charger for conversations lasting more...          0\n",
       "4                                    The mic is great.          1\n",
       "..                                                 ...        ...\n",
       "995  The screen does get smudged easily because it ...          0\n",
       "996  What a piece of junk.. I lose more calls on th...          0\n",
       "997                       Item Does Not Match Picture.          0\n",
       "998  The only thing that disappoint me is the infra...          0\n",
       "999  You can not answer calls with the unit, never ...          0\n",
       "\n",
       "[1000 rows x 2 columns]"
      ]
     },
     "execution_count": 3,
     "metadata": {},
     "output_type": "execute_result"
    }
   ],
   "source": [
    "df"
   ]
  },
  {
   "cell_type": "markdown",
   "id": "b50e25df-3cc7-4d0c-9982-592f88496f1d",
   "metadata": {},
   "source": [
    "##### Countplot of sentiment categories"
   ]
  },
  {
   "cell_type": "code",
   "execution_count": 4,
   "id": "5c1f20cf-c586-4d7b-8e42-e82fe93528be",
   "metadata": {},
   "outputs": [
    {
     "data": {
      "image/png": "[encoded data removed]",
      "text/plain": [
       "<Figure size 800x400 with 1 Axes>"
      ]
     },
     "metadata": {},
     "output_type": "display_data"
    }
   ],
   "source": [
    "fig = plt.figure(figsize=(8, 4))\n",
    "sns.countplot(data=df, x='Sentiment')\n",
    "plt.title('Negative vs. Positive Sentiment')\n",
    "plt.show()"
   ]
  },
  {
   "cell_type": "markdown",
   "id": "c6f340d2-5e88-4c27-a6e4-87d63b64c108",
   "metadata": {},
   "source": [
    "##### Check for Unusual Characters\n",
    "\n",
    "Many reviews contained special symbols, non-English characters, and emojis. We can detect them by printing out a list of unique characters from all reviews."
   ]
  },
  {
   "cell_type": "code",
   "execution_count": 5,
   "id": "0224e774-a275-4bd0-8246-54498ec46e6a",
   "metadata": {},
   "outputs": [
    {
     "name": "stdout",
     "output_type": "stream",
     "text": [
      "['S', 'o', ' ', 't', 'h', 'e', 'r', 'i', 's', 'n', 'w', 'a', 'y', 'f', 'm', 'p', 'l', 'u', 'g', 'U', 'I', 'b', 'c', 'v', '.', 'G', 'd', ',', 'E', 'x', 'j', 'T', '4', '5', 'M', 'A', 'J', 'O', 'R', 'P', 'B', 'L', '!', 'z', 'N', 'W', 'q', 'H', '+', 'V', '\"', 'Y', 'D', 'F', 'k', \"'\", 'K', 'C', '/', '7', '3', '6', '8', '0', '2', '?', 'Z', '-', '1', ':', ')', '(', 'Q', '&', '$', '*', ';', 'X', '%', '9', '#', '[', ']']\n"
     ]
    }
   ],
   "source": [
    "# Add unique characters to list\n",
    "chars = []\n",
    "for word in df['Review']:\n",
    "    for char in word:\n",
    "        if char not in chars:\n",
    "            chars.append(char)\n",
    "            \n",
    "print(chars)"
   ]
  },
  {
   "cell_type": "markdown",
   "id": "01b2ed00-1c0d-4153-9a67-41db97eb9b33",
   "metadata": {},
   "source": [
    "##### Find Vocabulary Size\n",
    "\n",
    "Vocabulary size is the number of unique words in all of the reviews. We will use the `Tokenizer` method from `keras` to vectorize the text. Then we will fit the tokenizer object on the reviews to break them down into a vocabulary dictionary. This will allow us to determine the vocabulary size. "
   ]
  },
  {
   "cell_type": "code",
   "execution_count": 6,
   "id": "ad4e3b6c-e635-43c7-a26e-34d25038f5d6",
   "metadata": {},
   "outputs": [
    {
     "name": "stdout",
     "output_type": "stream",
     "text": [
      "Vocabulary size: 1879\n"
     ]
    }
   ],
   "source": [
    "# Create tokenizer object with filters\n",
    "tokenizer = Tokenizer()\n",
    "\n",
    "# Fit on reviews\n",
    "tokenizer.fit_on_texts(df['Review'])\n",
    "\n",
    "# Print vocabulary size\n",
    "vocab_dict = tokenizer.word_index\n",
    "vocab_size = len(vocab_dict) + 1\n",
    "print(f'Vocabulary size: {vocab_size}')"
   ]
  },
  {
   "cell_type": "markdown",
   "id": "06bba30c-2507-4554-88d8-7a265815a068",
   "metadata": {},
   "source": [
    "##### Find Word Embedding Length\n",
    "\n",
    "Word embeddings are a type of word representation that allows words with similar meaning to have a similar representation. Individual words are represented as real-valued vectors in a predefined vector space. Each word is mapped to one vector and the vector values are learned in a way that resembles a neural network (Brownlee, 2019). Embedding length is the fourth root of the vocabulary size, which can then be rounded up to the nearest integer."
   ]
  },
  {
   "cell_type": "code",
   "execution_count": 7,
   "id": "8d1e97c3-85d0-452e-ada4-b68810d2c7e1",
   "metadata": {},
   "outputs": [
    {
     "name": "stdout",
     "output_type": "stream",
     "text": [
      "Word embedding length: 7\n"
     ]
    }
   ],
   "source": [
    "# Calculate embedding length of vocab size\n",
    "embed_len = int(round(np.sqrt(np.sqrt(len(vocab_dict))), 0))\n",
    "\n",
    "print(f'Word embedding length: {embed_len}')"
   ]
  },
  {
   "cell_type": "markdown",
   "id": "f955c852-392c-446a-bad4-b5aa557d5d3c",
   "metadata": {},
   "source": [
    "##### Sequence Length Justification\n",
    "\n",
    "We need to choose a maximum sequence length due to the way that RNN algorithm accepts input. RNN takes in batches of sequences at once but the sequence length of each batch has to be equal. That means that if a sequence in a batch is too long, it will get truncated. But if a sequence is short, we can simply use padding. By using a maximum sequence length, we can preserve all of the available input (Halder, 2022).\n",
    "\n",
    "We will find this length in section B5 during data preparation. This is because the maximum sequence length might be different after the data is cleaned."
   ]
  },
  {
   "cell_type": "markdown",
   "id": "64480a35-1f3c-4b0f-a986-f67fec77d763",
   "metadata": {},
   "source": [
    "#### B2. Goal of Tokenization\n",
    "\n",
    "Tokenization is the process of splitting text into separate words or characters, using a delimiter such as the space character. This preprocessing is necessary because RNN cannot work with unstructured text data. The algorithm needs the data to be broken down into discrete tokens before analysis can be conducted (Menzli, 2022). The method `Tokenizer()` from `tensorflow.keras` package was used to tokenize and normalize the text. Below are ten examples from the word index of the tokenized vocabulary in section B1. "
   ]
  },
  {
   "cell_type": "code",
   "execution_count": 8,
   "id": "102cc8e6-3c1b-46fd-a971-bb629e19b478",
   "metadata": {},
   "outputs": [
    {
     "data": {
      "text/plain": [
       "[('would', 41),\n",
       " ('work', 42),\n",
       " ('from', 43),\n",
       " ('your', 44),\n",
       " ('like', 45),\n",
       " ('be', 46),\n",
       " ('me', 47),\n",
       " ('case', 48),\n",
       " ('if', 49),\n",
       " ('than', 50)]"
      ]
     },
     "execution_count": 8,
     "metadata": {},
     "output_type": "execute_result"
    }
   ],
   "source": [
    "# Display 10 tokens from word index\n",
    "list(vocab_dict.items())[40:50]"
   ]
  },
  {
   "cell_type": "markdown",
   "id": "7838d9c1-1ff7-4640-9ad5-6b291d1e876e",
   "metadata": {},
   "source": [
    "#### B3. Padding Process\n",
    "\n",
    "The RNN algorithm requires the input sequences to be of the same shape and size. We need to add padding with shorter sequences to adhere to this specification. This ensures that when a batch of sequences is passed into RNN, each individual sequence will be of the same length. We used pre-padding for this process since post-padding performed worse on LSTMs, a type of RNN that we use for text generation, compared to pre-padding (Reddy & Reddy, 2019).\n",
    "\n",
    "An example of a padded sequence can be found in section B5 during data preparation. "
   ]
  },
  {
   "cell_type": "markdown",
   "id": "820ed63c-dcc9-4723-b21c-767d667dcac3",
   "metadata": {},
   "source": [
    "#### B4. Sentiment Categories\n",
    "\n",
    "We can use the labels of 0 and 1 for the sentiment, with 0 being negative and 1 being positive. These two categories will be used for the sentiment analysis output. In the final dense layer of RNN, we will calculate the sentiment output using the `softmax` activation function. This function is used to normalize the outputs and convert them into probabilities of membership in each category (Brownlee, 2020b).\n",
    "\n",
    "#### B5. Preparation Steps\n",
    "\n",
    "To prepare the data for analysis, we need to perform the following steps:\n",
    "\n",
    "1. Remove unusual characters with regular expression.\n",
    "2. Breaking reviews down with tokenization.\n",
    "3. Remove stop words from data.\n",
    "4. Reduce words to their base forms using lemmatization.\n",
    "5. Find maximum sequence length.\n",
    "6. Divide data into training/testing sets with 80/20 split.\n",
    "7. Pre-pad sequences to maximum sequence length.\n",
    "\n",
    "We will do step 1 through 4 using one loop below for efficiency.\n",
    "\n",
    "##### Step 1 through 4"
   ]
  },
  {
   "cell_type": "code",
   "execution_count": 9,
   "id": "31f736c6-448e-439f-bdda-d0128f756144",
   "metadata": {},
   "outputs": [],
   "source": [
    "reviews_list = []\n",
    "stop_words = stopwords.words('english')\n",
    "for review in df['Review']:\n",
    "    # 1. Remove special characters with regex\n",
    "    review = re.sub('[^a-zA-Z ]', '', review)\n",
    "    \n",
    "    # 2. Tokenize review\n",
    "    review = review.lower()\n",
    "    review = word_tokenize(review)  # Tokenize review\n",
    "    \n",
    "    # 3. Remove stopwords\n",
    "    review = [word for word in review if word not in stop_words]\n",
    "    \n",
    "    # 4. Lemmatize words in each review\n",
    "    lem = WordNetLemmatizer()       \n",
    "    review = [lem.lemmatize(word) for word in review]\n",
    "    \n",
    "    # Join back the string and append to list\n",
    "    review = ' '.join(review)\n",
    "    reviews_list.append(review)"
   ]
  },
  {
   "cell_type": "code",
   "execution_count": 10,
   "id": "f448aa3d-c31d-4a39-80d7-1f41bbd1d95f",
   "metadata": {},
   "outputs": [
    {
     "data": {
      "text/html": [
       "<div>\n",
       "<style scoped>\n",
       "    .dataframe tbody tr th:only-of-type {\n",
       "        vertical-align: middle;\n",
       "    }\n",
       "\n",
       "    .dataframe tbody tr th {\n",
       "        vertical-align: top;\n",
       "    }\n",
       "\n",
       "    .dataframe thead th {\n",
       "        text-align: right;\n",
       "    }\n",
       "</style>\n",
       "<table border=\"1\" class=\"dataframe\">\n",
       "  <thead>\n",
       "    <tr style=\"text-align: right;\">\n",
       "      <th></th>\n",
       "      <th>Review</th>\n",
       "      <th>Clean Review</th>\n",
       "      <th>Sentiment</th>\n",
       "    </tr>\n",
       "  </thead>\n",
       "  <tbody>\n",
       "    <tr>\n",
       "      <th>0</th>\n",
       "      <td>So there is no way for me to plug it in here i...</td>\n",
       "      <td>way plug u unless go converter</td>\n",
       "      <td>0</td>\n",
       "    </tr>\n",
       "    <tr>\n",
       "      <th>1</th>\n",
       "      <td>Good case, Excellent value.</td>\n",
       "      <td>good case excellent value</td>\n",
       "      <td>1</td>\n",
       "    </tr>\n",
       "    <tr>\n",
       "      <th>2</th>\n",
       "      <td>Great for the jawbone.</td>\n",
       "      <td>great jawbone</td>\n",
       "      <td>1</td>\n",
       "    </tr>\n",
       "    <tr>\n",
       "      <th>3</th>\n",
       "      <td>Tied to charger for conversations lasting more...</td>\n",
       "      <td>tied charger conversation lasting minutesmajor...</td>\n",
       "      <td>0</td>\n",
       "    </tr>\n",
       "    <tr>\n",
       "      <th>4</th>\n",
       "      <td>The mic is great.</td>\n",
       "      <td>mic great</td>\n",
       "      <td>1</td>\n",
       "    </tr>\n",
       "  </tbody>\n",
       "</table>\n",
       "</div>"
      ],
      "text/plain": [
       "                                              Review  \\\n",
       "0  So there is no way for me to plug it in here i...   \n",
       "1                        Good case, Excellent value.   \n",
       "2                             Great for the jawbone.   \n",
       "3  Tied to charger for conversations lasting more...   \n",
       "4                                  The mic is great.   \n",
       "\n",
       "                                        Clean Review  Sentiment  \n",
       "0                     way plug u unless go converter          0  \n",
       "1                          good case excellent value          1  \n",
       "2                                      great jawbone          1  \n",
       "3  tied charger conversation lasting minutesmajor...          0  \n",
       "4                                          mic great          1  "
      ]
     },
     "execution_count": 10,
     "metadata": {},
     "output_type": "execute_result"
    }
   ],
   "source": [
    "# Assign cleaned reviews to dataframe\n",
    "df['Clean Review'] = reviews_list\n",
    "\n",
    "# Rearrange order of columns\n",
    "df = df[['Review', 'Clean Review', 'Sentiment']]\n",
    "\n",
    "# Check cleaned data\n",
    "df.head()"
   ]
  },
  {
   "cell_type": "markdown",
   "id": "6f8e9a57-31ba-4d07-834d-2fd8191d7ea4",
   "metadata": {},
   "source": [
    "##### 5. Find maximum sequence length"
   ]
  },
  {
   "cell_type": "code",
   "execution_count": 11,
   "id": "7d3e1d3b-1af8-4bdd-8dfe-29bcf6b71dd9",
   "metadata": {},
   "outputs": [
    {
     "name": "stdout",
     "output_type": "stream",
     "text": [
      "Maximum sequence length: 16\n"
     ]
    }
   ],
   "source": [
    "# Find longest input from reviews\n",
    "max_seq = 0\n",
    "for review in df['Clean Review']:\n",
    "    review_len = len(review.split(' '))\n",
    "    if review_len > max_seq:\n",
    "        max_seq = review_len\n",
    "\n",
    "print(f'Maximum sequence length: {max_seq}')"
   ]
  },
  {
   "cell_type": "markdown",
   "id": "e490ea2c-47c6-4077-90b1-be266766e4a7",
   "metadata": {},
   "source": [
    "##### 7. Split into training/testing sets"
   ]
  },
  {
   "cell_type": "code",
   "execution_count": 12,
   "id": "99815990-9a06-4b05-b5ac-c9bf0f319952",
   "metadata": {},
   "outputs": [],
   "source": [
    "# Do 80/20 split\n",
    "X = df['Clean Review']\n",
    "y = df['Sentiment']\n",
    "X_train, X_test, y_train, y_test = train_test_split(X, y, test_size=0.2, random_state=123)"
   ]
  },
  {
   "cell_type": "markdown",
   "id": "6b62a49f-0497-4bb9-a2c2-11dfe774fd05",
   "metadata": {},
   "source": [
    "##### 6. Pre-pad sequences"
   ]
  },
  {
   "cell_type": "code",
   "execution_count": 13,
   "id": "d286870a-c989-49ed-8f0d-bc3fb124809b",
   "metadata": {},
   "outputs": [
    {
     "data": {
      "text/plain": [
       "array([  0,   0,   0,   0,   0,   0,   0,   0,   0,   0,  32, 150, 163,\n",
       "       193, 737,  25])"
      ]
     },
     "execution_count": 13,
     "metadata": {},
     "output_type": "execute_result"
    }
   ],
   "source": [
    "# Pad training\n",
    "train_sequences = tokenizer.texts_to_sequences(X_train)\n",
    "padded_train = pad_sequences(train_sequences, maxlen=max_seq, padding='pre')\n",
    "\n",
    "# Pad testing set\n",
    "test_sequences = tokenizer.texts_to_sequences(X_test)\n",
    "padded_test = pad_sequences(test_sequences, maxlen=max_seq, padding='pre')\n",
    "\n",
    "# Print a padded training sample\n",
    "padded_train[0]"
   ]
  },
  {
   "cell_type": "markdown",
   "id": "ca00d757-dfa0-4b50-882f-1a31c5f90694",
   "metadata": {},
   "source": [
    "#### B6. Copy of Prepared Dataset"
   ]
  },
  {
   "cell_type": "code",
   "execution_count": 14,
   "id": "1b5e464a-3c58-44b1-8f2f-7e4bc3b912f2",
   "metadata": {},
   "outputs": [],
   "source": [
    "# Export files to CSV\n",
    "df.to_csv('clean_data.csv', index=False)\n",
    "X_train.to_csv('X_train.csv', index=False)\n",
    "X_test.to_csv('X_test.csv', index=False)\n",
    "y_train.to_csv('y_train.csv', index=False)\n",
    "y_test.to_csv('y_test.csv', index=False)"
   ]
  },
  {
   "cell_type": "markdown",
   "id": "e9c6c002-7ffe-4b01-8e8c-5c4d17916e77",
   "metadata": {},
   "source": [
    "### C. Network Description\n",
    "\n",
    "##### Create RNN with 6 Layers"
   ]
  },
  {
   "cell_type": "code",
   "execution_count": 15,
   "id": "b4734907-8567-4114-9ed8-239667788ee7",
   "metadata": {},
   "outputs": [],
   "source": [
    "# Adapted from Natural Language Generation in Python (Halder, 2022)\n",
    "# https://app.datacamp.com/learn/courses/natural-language-generation-in-python\n",
    "\n",
    "# Create RNN\n",
    "model = Sequential([\n",
    "    Embedding(vocab_size, embed_len, input_length=max_seq),\n",
    "    GlobalAveragePooling1D(),\n",
    "    Dense(20, activation='relu'),\n",
    "    Dense(10, activation='relu'),\n",
    "    Dense(2, activation='softmax')\n",
    "])\n",
    "\n",
    "# Compile model\n",
    "model.compile(loss='sparse_categorical_crossentropy', optimizer='adam', metrics=['accuracy'])"
   ]
  },
  {
   "cell_type": "markdown",
   "id": "d4e8f281-ccfd-413b-a4ed-44ab547db8df",
   "metadata": {},
   "source": [
    "#### C1. Model Summary"
   ]
  },
  {
   "cell_type": "code",
   "execution_count": 16,
   "id": "4c5369be-607f-4d90-8eb3-b3fbe908bec8",
   "metadata": {},
   "outputs": [
    {
     "name": "stdout",
     "output_type": "stream",
     "text": [
      "Model: \"sequential\"\n",
      "_________________________________________________________________\n",
      " Layer (type)                Output Shape              Param #   \n",
      "=================================================================\n",
      " embedding (Embedding)       (None, 16, 7)             13153     \n",
      "                                                                 \n",
      " global_average_pooling1d (G  (None, 7)                0         \n",
      " lobalAveragePooling1D)                                          \n",
      "                                                                 \n",
      " dense (Dense)               (None, 20)                160       \n",
      "                                                                 \n",
      " dense_1 (Dense)             (None, 10)                210       \n",
      "                                                                 \n",
      " dense_2 (Dense)             (None, 2)                 22        \n",
      "                                                                 \n",
      "=================================================================\n",
      "Total params: 13,545\n",
      "Trainable params: 13,545\n",
      "Non-trainable params: 0\n",
      "_________________________________________________________________\n"
     ]
    }
   ],
   "source": [
    "# Print model summary\n",
    "model.summary()"
   ]
  },
  {
   "cell_type": "markdown",
   "id": "3cb440d5-876e-4d17-aeea-2a36ce8fc8db",
   "metadata": {},
   "source": [
    "#### C2. Network Description\n",
    "\n",
    "There are five layers in our network. They are detailed in the table below.\n",
    "\n",
    "| Layer | Layer Type | Core Type | Parameters |\n",
    "|:-----:|:----------:|:---------:|:----------:|\n",
    "|  1st  |    Input   | Embedding |    13153   |\n",
    "|  2nd  |   Flatten  |  Flatten  |      0     |\n",
    "|  3rd  |   Hidden   |   Dense   |     160    |\n",
    "|  4th  |   Hidden   |   Dense   |     210    |\n",
    "|  5th  |   Output   |   Dense   |     22     |\n",
    "\n",
    "#### C3. Choice of Hyperparameters\n",
    "\n",
    "##### 1. Activation Functions\n",
    "\n",
    "We used two activation functions in the model, ReLu and Softmax. ReLu is frequently used for hidden layers due to its simple computation and good performance. It also does not suffer from vanishing gradient problem. Softmax produces a probability distribution between 0 and 1, which makes it ideal for classification problems such as sentiment analysis (Sharma, 2020).\n",
    "\n",
    "##### 2. Number of Nodes\n",
    "\n",
    "We chose the initial number of nodes as an experiment. Since we do not have the data on the optimal number, we selected 20 and 10 nodes for the first and second hidden layers, respectively. These numbers gave us a good starting point. We can increase the network capacity by adding more nodes to each layer later if we want to improve the accuracy.\n",
    "\n",
    "##### 3. Loss Function\n",
    "\n",
    "Categorical crossentropy will calculate a score that summarizes the average difference between the actual and predicted probability distributions for all classes in the problem. We selected sparse categorical crossentropy because this function performs the same calculation as categorical crossentropy and it also one hot encodes the data for us (Brownlee, 2020a). This loss function is designed to quantify the difference between two probability distributions.\n",
    "\n",
    "##### 4. Optimizer\n",
    "\n",
    "The `adam` optimizer is the most versatile algorithm for most problems. It automatically adjusts the learning rate as it performs gradient descent. This ensures the values remain reasonable throughout the weight optimization process (Halder, 2022). It is efficient on both computation and memory usage. It can also handle random noise in the model, leading to less overfitting.\n",
    "\n",
    "##### 5. Stopping Criteria\n",
    "\n",
    "We will use a stopping criteria of two epochs. This means the model will stop training when the accuracy score stops improving after two epochs. This will prevent the model from overfitting on the training data. Having a stopping criteria will also help with improving generalization on the testing set.\n",
    "\n",
    "##### 6. Evaluation Metric\n",
    "\n",
    "##### Fit the Model"
   ]
  },
  {
   "cell_type": "code",
   "execution_count": 17,
   "id": "e3de5e67-b426-4753-b5ef-83d999c06cb5",
   "metadata": {},
   "outputs": [
    {
     "name": "stdout",
     "output_type": "stream",
     "text": [
      "Epoch 1/20\n",
      "20/20 [==============================] - 0s 8ms/step - loss: 0.6932 - accuracy: 0.5016 - val_loss: 0.6931 - val_accuracy: 0.4563\n",
      "Epoch 2/20\n",
      "20/20 [==============================] - 0s 2ms/step - loss: 0.6914 - accuracy: 0.5094 - val_loss: 0.6926 - val_accuracy: 0.4563\n",
      "Epoch 3/20\n",
      "20/20 [==============================] - 0s 2ms/step - loss: 0.6874 - accuracy: 0.5969 - val_loss: 0.6881 - val_accuracy: 0.6938\n",
      "Epoch 4/20\n",
      "20/20 [==============================] - 0s 2ms/step - loss: 0.6790 - accuracy: 0.7219 - val_loss: 0.6841 - val_accuracy: 0.5375\n",
      "Epoch 5/20\n",
      "20/20 [==============================] - 0s 2ms/step - loss: 0.6634 - accuracy: 0.7969 - val_loss: 0.6702 - val_accuracy: 0.7250\n",
      "Epoch 6/20\n",
      "20/20 [==============================] - 0s 2ms/step - loss: 0.6337 - accuracy: 0.8938 - val_loss: 0.6603 - val_accuracy: 0.5813\n",
      "Epoch 7/20\n",
      "20/20 [==============================] - 0s 2ms/step - loss: 0.5883 - accuracy: 0.8766 - val_loss: 0.6286 - val_accuracy: 0.7125\n",
      "Epoch 8/20\n",
      "20/20 [==============================] - 0s 2ms/step - loss: 0.5177 - accuracy: 0.9156 - val_loss: 0.6014 - val_accuracy: 0.7000\n",
      "Epoch 9/20\n",
      "20/20 [==============================] - 0s 2ms/step - loss: 0.4314 - accuracy: 0.9297 - val_loss: 0.5347 - val_accuracy: 0.7812\n",
      "Epoch 10/20\n",
      "20/20 [==============================] - 0s 2ms/step - loss: 0.3450 - accuracy: 0.9516 - val_loss: 0.4920 - val_accuracy: 0.7750\n",
      "Epoch 11/20\n",
      "20/20 [==============================] - 0s 2ms/step - loss: 0.2679 - accuracy: 0.9516 - val_loss: 0.4797 - val_accuracy: 0.8000\n",
      "Epoch 12/20\n",
      "20/20 [==============================] - 0s 2ms/step - loss: 0.2080 - accuracy: 0.9625 - val_loss: 0.4847 - val_accuracy: 0.7937\n",
      "Epoch 13/20\n",
      "20/20 [==============================] - 0s 2ms/step - loss: 0.1661 - accuracy: 0.9688 - val_loss: 0.4609 - val_accuracy: 0.8062\n",
      "Epoch 14/20\n",
      "20/20 [==============================] - 0s 2ms/step - loss: 0.1364 - accuracy: 0.9719 - val_loss: 0.4633 - val_accuracy: 0.7937\n",
      "Epoch 15/20\n",
      "20/20 [==============================] - 0s 2ms/step - loss: 0.1168 - accuracy: 0.9734 - val_loss: 0.5101 - val_accuracy: 0.7875\n"
     ]
    }
   ],
   "source": [
    "# Define early stopping \n",
    "early_stop = EarlyStopping(patience=2)\n",
    "\n",
    "rnn = model.fit(padded_train, y_train, epochs=20, validation_split=0.2, callbacks=early_stop, verbose=True)"
   ]
  },
  {
   "cell_type": "code",
   "execution_count": 18,
   "id": "074c4122-008c-4cf7-af05-cc11aef52503",
   "metadata": {},
   "outputs": [
    {
     "name": "stdout",
     "output_type": "stream",
     "text": [
      "Test Loss: 0.4194900095462799\n",
      "Test Accuracy: 0.8050000071525574\n"
     ]
    }
   ],
   "source": [
    "# Evaluate model on test data\n",
    "score = model.evaluate(padded_test, y_test, verbose=False)\n",
    "print(f'Test Loss: {score[0]}')\n",
    "print(f'Test Accuracy: {score[1]}')"
   ]
  },
  {
   "cell_type": "markdown",
   "id": "bb546b82-9caf-4afa-b8d7-14fecfe25d47",
   "metadata": {},
   "source": [
    "##### Evaluation\n",
    "\n",
    "The accuracy metrics were:\n",
    "\n",
    "- Training: 97.34%\n",
    "- Validation: 78.75%\n",
    "- Test: 80.5%\n",
    "\n",
    "We used accuracy as the evaluation metric. A high score means that the model could classify the right sentiment to the review. It will also serve as a gauge of whether our model overfit. An overfit model will have a very high score on training set but mediocre score on the test set. Our model performed well on the training data but it did not achieved the same results with the validation and test set. But because we used early stopping criteria, the model stopped training at epoch 15 when the validation accuracy did not improve further.\n",
    "\n",
    "### D. Model Evaluation\n",
    "\n",
    "#### D1. Impact of Stopping Criteria\n",
    "\n",
    "When training the model above, the stopping criteria prevented the model from overfitting. It stopped the model from training at epoch 15 when it could not improve the validation score further. Without a stopping criteria, the model would continue training for all 20 epochs even if the validation score stops improving. Since we do not know the optimal number of epochs before training, stopping criteria is a simple way to prevent the model from overfitting (Halder, 2022).\n",
    "\n",
    "#### D2. Training Visualizations\n",
    "\n",
    "##### Accuracy Plot"
   ]
  },
  {
   "cell_type": "code",
   "execution_count": 19,
   "id": "0c3eb33e-c1fb-4c34-ab6a-0d1e0230d1e3",
   "metadata": {},
   "outputs": [
    {
     "data": {
      "image/png": "[encoded data removed]",
      "text/plain": [
       "<Figure size 640x480 with 1 Axes>"
      ]
     },
     "metadata": {},
     "output_type": "display_data"
    }
   ],
   "source": [
    "accuracies = rnn.history['accuracy']\n",
    "sns.lineplot(data=accuracies, label='Accuracy', color='green')\n",
    "plt.xlabel('Epoch')\n",
    "plt.ylabel('Accuracy Value')\n",
    "plt.legend()\n",
    "plt.show()"
   ]
  },
  {
   "cell_type": "markdown",
   "id": "8f7766f4-0809-4e9d-9a12-ee09d8014563",
   "metadata": {},
   "source": [
    "##### Loss Plot"
   ]
  },
  {
   "cell_type": "code",
   "execution_count": 20,
   "id": "56345b48-418c-4a2b-a5aa-f0f00613454b",
   "metadata": {},
   "outputs": [
    {
     "data": {
      "image/png": "[encoded data removed]",
      "text/plain": [
       "<Figure size 640x480 with 1 Axes>"
      ]
     },
     "metadata": {},
     "output_type": "display_data"
    }
   ],
   "source": [
    "losses = rnn.history['loss']\n",
    "sns.lineplot(data=losses, label='Loss')\n",
    "plt.xlabel('Epoch')\n",
    "plt.ylabel('Training Loss')\n",
    "plt.legend()\n",
    "plt.show()"
   ]
  },
  {
   "cell_type": "markdown",
   "id": "3b7fa5a5-6340-4997-ba1c-3abb269d61ec",
   "metadata": {},
   "source": [
    "#### D3. Model Fitness\n",
    "\n",
    "Our model did not overfit to the training data. It stopped at epoch 15 when it could not improve the accuracy anymore. To achieve a good model fit, we used the following methods:\n",
    "\n",
    "- Starting with a small network with just 5 layers, with 20 nodes and 10 nodes in the hidden layers. This gives us a lot of room to add more nodes and layers to increase network capacity later.\n",
    "- We divided the training set into 80/20 split with the other 20% reserved for the validation set.\n",
    "- Create an early stopping criteria to stop the model when it stops improving after two epochs.\n",
    "\n",
    "To improve the model further, we can increase the input data. This would provide the model with even more samples to train on, which can lead to better performance.\n",
    "\n",
    "#### D4. Predictive Accuracy\n",
    "\n",
    "The accuracy metrics were:\n",
    "\n",
    "- Training: 97.34%\n",
    "- Validation: 78.75%\n",
    "- Test: 80.5%\n",
    "\n",
    "While our model accuracy is 97%, we cannot claim that it can perform that well on unseen data. The metric we should evaluate this model on are the validation and test accuracy. Both of those scores are around 80%. While those seems like good scores, a data size of 1000 samples is quite small training a neural network. This model can be more reliable once it has more data input.\n",
    "\n",
    "### E. Save the Network"
   ]
  },
  {
   "cell_type": "code",
   "execution_count": 21,
   "id": "22a4dd1b-09e5-4d2a-b435-11e950f2696f",
   "metadata": {},
   "outputs": [],
   "source": [
    "model.save('sentiment_model.h5')"
   ]
  },
  {
   "cell_type": "markdown",
   "id": "cfa512a0-f173-4d28-85d6-cca206ad86a9",
   "metadata": {},
   "source": [
    "### F. Network Functionality\n",
    "\n",
    "The model can be used to perform sentiment analysis on customer reviews. This primary functionality can help us predict whether a customer liked a product or not. For the network architecture, we used five layers. However, since one layer is used to flatten the data, only four layers were involved in the training. For the two hidden layers, we only used 20 nodes and 10 nodes. This is appropriate since our dataset is quite small. Having too many nodes will overfit the data and uses up more resources. One thing we can add to this architecture is a dropout layer to increase the robustness of the network.\n",
    "\n",
    "### G. Recommendation\n",
    "\n",
    "In theory, our model can predict customer sentiment correct 80% of the time. However, we would advise not to use our model on real customer data yet. We trained the model on a very small sample of customers so it may not deliver the same result in the real setting. We recommend the company train this model on significantly more samples and increase the complexity of the neural network. This will ensure the model becomes accurate enough for real world use."
   ]
  },
  {
   "cell_type": "markdown",
   "id": "57787068-1253-4107-a433-2ddac878b75b",
   "metadata": {},
   "source": [
    "### H. Notebook Presentation\n",
    "\n",
    "The Jupyter Notebook for this analysis will be exported as a PDF document.\n",
    "\n",
    "### I. Third-Party Code\n",
    "\n",
    "Halder, B. (2022). Natural Language Generation in Python. DataCamp. Retrieved August 18, 2022, from https://app.datacamp.com/learn/courses/natural-language-generation-in-python\n",
    "\n",
    "### J. References\n",
    "\n",
    "Brownlee, J. (2019, August 7). What Are Word Embeddings for Text? Machine Learning Mastery. Retrieved August 18, 2022, from https://machinelearningmastery.com/what-are-word-embeddings/\n",
    "\n",
    "Brownlee, J. (2020a, August 25). How to Choose Loss Functions When Training Deep Learning Neural Networks. Machine Learning Mastery. Retrieved August 21, 2022, from https://machinelearningmastery.com/how-to-choose-loss-functions-when-training-deep-learning-neural-networks/\n",
    "\n",
    "Brownlee, J. (2020b, October 19). Softmax Activation Function with Python. Machine Learning Mastery. Retrieved August 20, 2022, from https://machinelearningmastery.com/softmax-activation-function-with-python/\n",
    "\n",
    "Halder, B. (2022). Natural Language Generation in Python. DataCamp. Retrieved August 18, 2022, from https://app.datacamp.com/learn/courses/natural-language-generation-in-python\n",
    "\n",
    "Menzli, A. (2022, July 21). Tokenization in NLP: Types, Challenges, Examples, Tools. Neptune.Ai. Retrieved August 19, 2022, from https://neptune.ai/blog/tokenization-in-nlp\n",
    "\n",
    "Reddy, D. M., & Reddy, N. V. S. (2019, March 18). Effects of Padding on LSTMs and CNNs. arXiv. Retrieved August 19, 2022, from https://arxiv.org/pdf/1903.07288.pdf\n",
    "\n",
    "Sharma, P. (2021, March 9). Keras Activation Layers - Ultimate Guide for Beginners. MLK - Machine Learning Knowledge. Retrieved August 21, 2022, from https://machinelearningknowledge.ai/keras-activation-layers-ultimate-guide-for-beginners/"
   ]
  }
 ],
 "metadata": {
  "kernelspec": {
   "display_name": "Python 3 (ipykernel)",
   "language": "python",
   "name": "python3"
  },
  "language_info": {
   "codemirror_mode": {
    "name": "ipython",
    "version": 3
   },
   "file_extension": ".py",
   "mimetype": "text/x-python",
   "name": "python",
   "nbconvert_exporter": "python",
   "pygments_lexer": "ipython3",
   "version": "3.10.4"
  }
 },
 "nbformat": 4,
 "nbformat_minor": 5
}
