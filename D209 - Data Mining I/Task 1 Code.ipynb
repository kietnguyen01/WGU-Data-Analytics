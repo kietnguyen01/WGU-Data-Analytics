{
 "cells": [
  {
   "cell_type": "markdown",
   "id": "cc735846-c2d3-46e0-b48a-0bca6aa4d817",
   "metadata": {},
   "source": [
    "Kiet Nguyen\n",
    "\n",
    "ID: 001601720\n",
    "\n",
    "Email: kngu179@wgu.edu"
   ]
  },
  {
   "cell_type": "markdown",
   "id": "5cf55cec-7106-4556-af98-d3df28566a4e",
   "metadata": {},
   "source": [
    "### A. Purpose of Data Mining Report\n",
    "\n",
    "#### *A1. Relevant Question*\n",
    "\n",
    "Can the rate of churn, dependent variable `Churn`, be classified using the following independent variables: `Children`, `Age`, `Income`, `Tenure`, and `MonthlyCharge`?\n",
    "\n",
    "#### *A2. Goal of Analysis*\n",
    "\n",
    "The goal of this analysis was to see if a small number of features could be used to predict the rate of churn. Using classification analysis, we could identify whether a `Churn` observation could be classified as a `Yes` or a `No`. This is important for stakeholders since it costs 10 times more to acquire new customers than retaining current ones. In a competitive market, a lower churn rate would be vital for business success."
   ]
  },
  {
   "cell_type": "markdown",
   "id": "331dc972-b71d-48fa-97cf-0b20f76b31a5",
   "metadata": {},
   "source": [
    "### B. Method Justification\n",
    "\n",
    "#### *B1. Explanation of Method*\n",
    "\n",
    "The chosen method for this analysis was K-Nearest Neighbors (KNN). This method classifies a new observation by finding K observations that have similar features, then it identifies the category of `Churn` among them and assign that category to the new observation. The prediction results depend on how the features are scaled, how similarity is measured, and how big K is set (Bruce et al., 2020).\n",
    "\n",
    "#### *B2. Assumption Summary*\n",
    "\n",
    "KNN assumes that similar things are near each other. It does this by calculating the distance between two points using metric such as Euclidean or straight-line distance (Chatterjee, 2021).\n",
    "\n",
    "#### *B3. Python Libraries*\n",
    "\n",
    "The libraries used for this analysis were:\n",
    "\n",
    "- `numpy`: efficient numeric computation library.\n",
    "- `pandas`: fast and flexibile data structures, such as `Series` and `DataFrame`, for data manipulation.\n",
    "- `matplotlib` and `seaborn`: beautiful graphs and figures for data visualizations.\n",
    "- `scikit-learn`: various functions and classes related to machine learning, such as classification and regression."
   ]
  },
  {
   "cell_type": "markdown",
   "id": "50c9d492-c618-4d11-8d85-bae0af479574",
   "metadata": {},
   "source": [
    "### C. Data Preparation\n",
    "\n",
    "#### *C1. One Preprocessing Goal*\n",
    "\n",
    "The first step for data preparation was to create a new dataframe containing only the independent and dependent variables.\n",
    "\n",
    "#### *C2. Initial Dataset*\n",
    "\n",
    "The analysis dataset consisted of 6 variables, 5 continuous and 1 categorical.\n",
    "\n",
    "|                 | `Age` | `Children` | `Churn` | `Income` | `MonthlyCharge` | `Tenure` |\n",
    "|:---------------:|:-----:|:----------:|:-------:|:--------:|:---------------:|:--------:|\n",
    "| **Categorical** |       |            |    X    |          |                 |          |\n",
    "|  **Continuous** |   X   |      X     |         |     X    |        X        |     X    |\n",
    "\n",
    "#### *C3. Analysis Steps*\n",
    "\n",
    "The steps to prepare the data were:\n",
    "\n",
    "1. Import libraries and dataset.\n",
    "2. Create new dataframe for relevant variables.\n",
    "3. Check for and handle duplicated or missing data.\n",
    "4. Explore variables and their basic statistics.\n",
    "5. Visualize variables"
   ]
  },
  {
   "cell_type": "code",
   "execution_count": 1,
   "id": "e83c135c-549a-4472-bcbb-7ed5589e369c",
   "metadata": {},
   "outputs": [],
   "source": [
    "import numpy as np\n",
    "import pandas as pd\n",
    "import matplotlib.pyplot as plt\n",
    "import seaborn as sns\n",
    "from sklearn.neighbors import KNeighborsClassifier\n",
    "from sklearn.preprocessing import StandardScaler\n",
    "from sklearn.model_selection import train_test_split\n",
    "from sklearn.pipeline import Pipeline\n",
    "from sklearn.metrics import classification_report, roc_curve, roc_auc_score\n",
    "%matplotlib inline"
   ]
  },
  {
   "cell_type": "code",
   "execution_count": 2,
   "id": "d0b4c847-6e91-4ad7-88ad-64e158d27707",
   "metadata": {},
   "outputs": [],
   "source": [
    "# Import churn dataset\n",
    "churn = pd.read_csv('churn_clean.csv')"
   ]
  },
  {
   "cell_type": "code",
   "execution_count": 3,
   "id": "60e470bd-5762-4223-9e23-ab5319254575",
   "metadata": {},
   "outputs": [],
   "source": [
    "# Create new dataframe with relevant variables\n",
    "df = churn[['Age', 'Children', 'Churn', 'Income', 'MonthlyCharge', 'Tenure']].copy()"
   ]
  },
  {
   "cell_type": "code",
   "execution_count": 4,
   "id": "1dd6214d-0b3a-4d3e-a3cb-b9f62a344b9a",
   "metadata": {},
   "outputs": [
    {
     "data": {
      "text/plain": [
       "False"
      ]
     },
     "execution_count": 4,
     "metadata": {},
     "output_type": "execute_result"
    }
   ],
   "source": [
    "# Check for duplicates\n",
    "df.duplicated().any()"
   ]
  },
  {
   "cell_type": "code",
   "execution_count": 5,
   "id": "b86ae0ea-5f94-46a6-848a-87c5868df17b",
   "metadata": {},
   "outputs": [
    {
     "data": {
      "text/plain": [
       "False"
      ]
     },
     "execution_count": 5,
     "metadata": {},
     "output_type": "execute_result"
    }
   ],
   "source": [
    "# Check for missing values\n",
    "df.isnull().values.any()"
   ]
  },
  {
   "cell_type": "code",
   "execution_count": 6,
   "id": "1a6b4396-c5e7-44a5-ab44-8269f5e1ddb1",
   "metadata": {},
   "outputs": [
    {
     "data": {
      "text/plain": [
       "count     10000\n",
       "unique        2\n",
       "top          No\n",
       "freq       7350\n",
       "Name: Churn, dtype: object"
      ]
     },
     "execution_count": 6,
     "metadata": {},
     "output_type": "execute_result"
    }
   ],
   "source": [
    "# Churn statistics\n",
    "df['Churn'].describe()"
   ]
  },
  {
   "cell_type": "code",
   "execution_count": 7,
   "id": "c2704ba9-0175-44fb-876d-65153162b16a",
   "metadata": {},
   "outputs": [
    {
     "data": {
      "text/html": [
       "<div>\n",
       "<style scoped>\n",
       "    .dataframe tbody tr th:only-of-type {\n",
       "        vertical-align: middle;\n",
       "    }\n",
       "\n",
       "    .dataframe tbody tr th {\n",
       "        vertical-align: top;\n",
       "    }\n",
       "\n",
       "    .dataframe thead th {\n",
       "        text-align: right;\n",
       "    }\n",
       "</style>\n",
       "<table border=\"1\" class=\"dataframe\">\n",
       "  <thead>\n",
       "    <tr style=\"text-align: right;\">\n",
       "      <th></th>\n",
       "      <th>Age</th>\n",
       "      <th>Children</th>\n",
       "      <th>Income</th>\n",
       "      <th>MonthlyCharge</th>\n",
       "      <th>Tenure</th>\n",
       "    </tr>\n",
       "  </thead>\n",
       "  <tbody>\n",
       "    <tr>\n",
       "      <th>count</th>\n",
       "      <td>10000.000000</td>\n",
       "      <td>10000.0000</td>\n",
       "      <td>10000.000000</td>\n",
       "      <td>10000.000000</td>\n",
       "      <td>10000.000000</td>\n",
       "    </tr>\n",
       "    <tr>\n",
       "      <th>mean</th>\n",
       "      <td>53.078400</td>\n",
       "      <td>2.0877</td>\n",
       "      <td>39806.926771</td>\n",
       "      <td>172.624816</td>\n",
       "      <td>34.526188</td>\n",
       "    </tr>\n",
       "    <tr>\n",
       "      <th>std</th>\n",
       "      <td>20.698882</td>\n",
       "      <td>2.1472</td>\n",
       "      <td>28199.916702</td>\n",
       "      <td>42.943094</td>\n",
       "      <td>26.443063</td>\n",
       "    </tr>\n",
       "    <tr>\n",
       "      <th>min</th>\n",
       "      <td>18.000000</td>\n",
       "      <td>0.0000</td>\n",
       "      <td>348.670000</td>\n",
       "      <td>79.978860</td>\n",
       "      <td>1.000259</td>\n",
       "    </tr>\n",
       "    <tr>\n",
       "      <th>25%</th>\n",
       "      <td>35.000000</td>\n",
       "      <td>0.0000</td>\n",
       "      <td>19224.717500</td>\n",
       "      <td>139.979239</td>\n",
       "      <td>7.917694</td>\n",
       "    </tr>\n",
       "    <tr>\n",
       "      <th>50%</th>\n",
       "      <td>53.000000</td>\n",
       "      <td>1.0000</td>\n",
       "      <td>33170.605000</td>\n",
       "      <td>167.484700</td>\n",
       "      <td>35.430507</td>\n",
       "    </tr>\n",
       "    <tr>\n",
       "      <th>75%</th>\n",
       "      <td>71.000000</td>\n",
       "      <td>3.0000</td>\n",
       "      <td>53246.170000</td>\n",
       "      <td>200.734725</td>\n",
       "      <td>61.479795</td>\n",
       "    </tr>\n",
       "    <tr>\n",
       "      <th>max</th>\n",
       "      <td>89.000000</td>\n",
       "      <td>10.0000</td>\n",
       "      <td>258900.700000</td>\n",
       "      <td>290.160419</td>\n",
       "      <td>71.999280</td>\n",
       "    </tr>\n",
       "  </tbody>\n",
       "</table>\n",
       "</div>"
      ],
      "text/plain": [
       "                Age    Children         Income  MonthlyCharge        Tenure\n",
       "count  10000.000000  10000.0000   10000.000000   10000.000000  10000.000000\n",
       "mean      53.078400      2.0877   39806.926771     172.624816     34.526188\n",
       "std       20.698882      2.1472   28199.916702      42.943094     26.443063\n",
       "min       18.000000      0.0000     348.670000      79.978860      1.000259\n",
       "25%       35.000000      0.0000   19224.717500     139.979239      7.917694\n",
       "50%       53.000000      1.0000   33170.605000     167.484700     35.430507\n",
       "75%       71.000000      3.0000   53246.170000     200.734725     61.479795\n",
       "max       89.000000     10.0000  258900.700000     290.160419     71.999280"
      ]
     },
     "execution_count": 7,
     "metadata": {},
     "output_type": "execute_result"
    }
   ],
   "source": [
    "# Independent variables statistics\n",
    "df.describe()"
   ]
  },
  {
   "cell_type": "code",
   "execution_count": 8,
   "id": "c1f0ceb5-62dc-4882-b518-6be7ad941d94",
   "metadata": {},
   "outputs": [
    {
     "data": {
      "image/png": "[encoded data removed]",
      "text/plain": [
       "<Figure size 432x288 with 1 Axes>"
      ]
     },
     "metadata": {
      "needs_background": "light"
     },
     "output_type": "display_data"
    }
   ],
   "source": [
    "# Visualize churn\n",
    "pal = sns.color_palette('bright')\n",
    "\n",
    "sns.countplot(x='Churn', data=df, palette=pal)\n",
    "plt.show()"
   ]
  },
  {
   "cell_type": "code",
   "execution_count": 9,
   "id": "9c565935-c41c-4709-b606-644254107485",
   "metadata": {},
   "outputs": [
    {
     "data": {
      "image/png": "[encoded data removed]",
      "text/plain": [
       "<Figure size 864x432 with 5 Axes>"
      ]
     },
     "metadata": {
      "needs_background": "light"
     },
     "output_type": "display_data"
    }
   ],
   "source": [
    "fig, axes = plt.subplots(2, 3, figsize=(12, 6))\n",
    "\n",
    "# Create list of continuous variables\n",
    "cont = df.select_dtypes(include='number').columns.tolist()\n",
    "\n",
    "# Loop and plot each continuous variable\n",
    "x = 0\n",
    "y = 0\n",
    "for idx, var in enumerate(cont):\n",
    "    if y == 3:\n",
    "        x += 1\n",
    "        y = 0\n",
    "    sns.histplot(ax=axes[x, y], data=df[var], color=pal[idx])\n",
    "    y += 1\n",
    "    \n",
    "fig.delaxes(axes[1, 2])\n",
    "plt.tight_layout()\n",
    "plt.show()"
   ]
  },
  {
   "cell_type": "markdown",
   "id": "a2dbf797-a942-4ba8-9ba7-e731d51a653a",
   "metadata": {},
   "source": [
    "#### *C4. Copy of Data*"
   ]
  },
  {
   "cell_type": "code",
   "execution_count": 10,
   "id": "157ac650-2252-403d-8d8a-56e39b0eef82",
   "metadata": {},
   "outputs": [],
   "source": [
    "# Export prepared data to CSV\n",
    "df.to_csv('churn_prep.csv', index=False)"
   ]
  },
  {
   "cell_type": "markdown",
   "id": "66682b1f-eba5-4782-8941-4e1cdf70064e",
   "metadata": {},
   "source": [
    "### D. Data Analysis\n",
    "\n",
    "#### *D1. Split Data*"
   ]
  },
  {
   "cell_type": "code",
   "execution_count": 11,
   "id": "551deeb6-c765-459f-9474-ef66370acbff",
   "metadata": {},
   "outputs": [],
   "source": [
    "# Scale continuous variables\n",
    "scaler = StandardScaler()\n",
    "df[cont] = scaler.fit_transform(df[cont])"
   ]
  },
  {
   "cell_type": "code",
   "execution_count": 12,
   "id": "05ac9eff-0592-4d8d-85b6-4d5c1064cc4e",
   "metadata": {},
   "outputs": [],
   "source": [
    "# Create arrays for variables\n",
    "y = df['Churn']\n",
    "X = df.drop('Churn', axis=1)\n",
    "\n",
    "# Split data with 30% test set\n",
    "seed = 123\n",
    "X_train, X_test, y_train, y_test = train_test_split(X, y, test_size=0.3, random_state=seed, stratify=y)"
   ]
  },
  {
   "cell_type": "code",
   "execution_count": 13,
   "id": "9ed4fa73-cc5e-41f0-b8ec-4fee0ff188f5",
   "metadata": {},
   "outputs": [],
   "source": [
    "# Export training and testing data to CSV\n",
    "X_train.to_csv('X_train.csv', index=False)\n",
    "X_test.to_csv('X_test.csv', index=False)\n",
    "y_train.to_csv('y_train.csv', index=False)\n",
    "y_test.to_csv('y_test.csv', index=False)"
   ]
  },
  {
   "cell_type": "markdown",
   "id": "8a12fd5d-d99b-42d7-820e-993cc47a5c2b",
   "metadata": {},
   "source": [
    "#### *D2. Analysis Description*\n",
    "\n",
    "The steps to perform KNN classification analysis were:\n",
    "\n",
    "1. Scale data.\n",
    "2. Split the data into training and testing.\n",
    "3. Fit model and make predictions on test data.\n",
    "4. Check model metrics.\n",
    "5. Test different values of K to improve model performane."
   ]
  },
  {
   "cell_type": "code",
   "execution_count": 14,
   "id": "700fe442-082c-4794-b8f7-3ed929cc3f6f",
   "metadata": {},
   "outputs": [],
   "source": [
    "knn = KNeighborsClassifier()\n",
    "\n",
    "# Fit model and make predictions on test data\n",
    "knn.fit(X_train, y_train)\n",
    "y_pred = knn.predict(X_test)"
   ]
  },
  {
   "cell_type": "code",
   "execution_count": 15,
   "id": "a87fd735-7970-4d6d-bd0f-8edc5ebfc182",
   "metadata": {},
   "outputs": [
    {
     "name": "stdout",
     "output_type": "stream",
     "text": [
      "              precision    recall  f1-score   support\n",
      "\n",
      "          No       0.85      0.90      0.87      2205\n",
      "         Yes       0.67      0.56      0.61       795\n",
      "\n",
      "    accuracy                           0.81      3000\n",
      "   macro avg       0.76      0.73      0.74      3000\n",
      "weighted avg       0.80      0.81      0.80      3000\n",
      "\n"
     ]
    }
   ],
   "source": [
    "# Compute model metrics\n",
    "print(classification_report(y_test, y_pred))"
   ]
  },
  {
   "cell_type": "code",
   "execution_count": 16,
   "id": "f428d5c1-fe55-4cd4-9d43-949f6ab870ce",
   "metadata": {},
   "outputs": [],
   "source": [
    "# Adapted from Classification chapter (Bowne-Anderson & Roy, 2022)\n",
    "# https://app.datacamp.com/learn/courses/supervised-learning-with-scikit-learn\n",
    "\n",
    "# Create arrays for K values, train, and test scores\n",
    "neighbors = np.arange(1, 11)\n",
    "train_scores = np.empty(len(neighbors))\n",
    "test_scores = np.empty(len(neighbors))\n",
    "\n",
    "# Loop over different values of K\n",
    "for idx, kval in enumerate(neighbors):\n",
    "    # Set n_neighbors with kval\n",
    "    knn.n_neighbors = kval\n",
    "    \n",
    "    # Fit the classifier to the training data\n",
    "    knn.fit(X_train, y_train)\n",
    "    \n",
    "    # Compute and append accuracies\n",
    "    train_scores[idx] = knn.score(X_train, y_train)\n",
    "    test_scores[idx] = knn.score(X_test, y_test)"
   ]
  },
  {
   "cell_type": "code",
   "execution_count": 17,
   "id": "90ddd400-320c-4fc9-b3a1-89d6974edda3",
   "metadata": {},
   "outputs": [
    {
     "data": {
      "image/png": "[encoded data removed]",
      "text/plain": [
       "<Figure size 432x288 with 1 Axes>"
      ]
     },
     "metadata": {
      "needs_background": "light"
     },
     "output_type": "display_data"
    }
   ],
   "source": [
    "plt.title('Testing Different K Values')\n",
    "plt.plot(neighbors, train_scores, label='Training Accuracy', color=pal[2])\n",
    "plt.plot(neighbors, test_scores, label='Testing Accuracy', color=pal[0])\n",
    "plt.legend()\n",
    "plt.xlabel('Number of Neighbors')\n",
    "plt.ylabel('Accuracy')\n",
    "plt.show()"
   ]
  },
  {
   "cell_type": "code",
   "execution_count": 18,
   "id": "1e26d750-44c1-4d87-b3a3-653ad0067b4e",
   "metadata": {},
   "outputs": [
    {
     "name": "stdout",
     "output_type": "stream",
     "text": [
      "              precision    recall  f1-score   support\n",
      "\n",
      "          No       0.86      0.92      0.89      2205\n",
      "         Yes       0.72      0.57      0.64       795\n",
      "\n",
      "    accuracy                           0.83      3000\n",
      "   macro avg       0.79      0.75      0.76      3000\n",
      "weighted avg       0.82      0.83      0.82      3000\n",
      "\n"
     ]
    }
   ],
   "source": [
    "# Set neighbors value to 9 and refit model\n",
    "knn.n_neighbors = 9\n",
    "knn.fit(X_train, y_train)\n",
    "y_pred = knn.predict(X_test)\n",
    "print(classification_report(y_test, y_pred))"
   ]
  },
  {
   "cell_type": "markdown",
   "id": "a7c47b9f-11e8-4c07-814b-3cafc94f4267",
   "metadata": {},
   "source": [
    "#### *D3. Analysis Code*\n",
    "\n",
    "The code used to perform the classification analysis could be found above in section D2."
   ]
  },
  {
   "cell_type": "markdown",
   "id": "0f96c49f-5117-4d74-a195-4799bd50781d",
   "metadata": {},
   "source": [
    "### E. Summary of Analysis\n",
    "\n",
    "#### *E1. AUC Explanation*"
   ]
  },
  {
   "cell_type": "code",
   "execution_count": 19,
   "id": "5c5f9167-f736-493f-babc-ce3861edd26a",
   "metadata": {},
   "outputs": [
    {
     "data": {
      "image/png": "[encoded data removed]",
      "text/plain": [
       "<Figure size 432x288 with 1 Axes>"
      ]
     },
     "metadata": {
      "needs_background": "light"
     },
     "output_type": "display_data"
    }
   ],
   "source": [
    "# Adapted from Fine-Tuning Your Model chapter (Bowne-Anderson & Roy, 2022)\n",
    "# https://app.datacamp.com/learn/courses/supervised-learning-with-scikit-learn\n",
    "\n",
    "# Encode churn to 0/1\n",
    "y_dummy = pd.get_dummies(y_test, drop_first=True)\n",
    "\n",
    "# Calculate class probabilities for each data point\n",
    "y_pred_prob = knn.predict_proba(X_test)[:, 1]\n",
    "\n",
    "# Compute false positive, true positive, and thresholds for ROC curve\n",
    "fpr, tpr, thresholds = roc_curve(y_dummy, y_pred_prob)\n",
    "\n",
    "# Calculate AUC score\n",
    "auc_score = roc_auc_score(y_test, y_pred_prob)\n",
    "\n",
    "# Plot ROC curve\n",
    "plt.plot([0, 1], [0, 1], 'k--')\n",
    "plt.plot(fpr, tpr, label=f'AUC Score: {auc_score:.3f}', color=pal[3])\n",
    "plt.xlabel('False Positive Rate')\n",
    "plt.ylabel('True Positive Rate')\n",
    "plt.title('KNN ROC Curve')\n",
    "plt.legend(loc='lower right')\n",
    "plt.show()"
   ]
  },
  {
   "cell_type": "markdown",
   "id": "e4c7746d-f170-43c4-9977-56e1eaba159e",
   "metadata": {},
   "source": [
    "While we used the classification report to quantitatively evaluate model performance, the ROC curve provided a way to visually evaluate models. ROC is a probability curve and AUC represents the degree or measure of separability. It tells how much the model is capable of distinguishing between classes (Narkhede, 2022). For this analysis, a high AUC score means that the model is performing well at classifying customers who churn versus customers who do not churn. The model had an AUC score of 0.864, which meant that the model could identify between churn and no churn with an 86.4% chance. The score was information because it told us that our model could detect more true positives and true negatives. \n",
    "\n",
    "#### *E2. Analysis Results*\n",
    "\n",
    "The classification report showed an overall accuracy of 0.83. Normally this would be a good score overall. However, our dependent variable `Churn` was imbalanced, with 7350 `No` and 2650 `Yes`. This created an uneven distribution where one class label had more observations than the other. This meant our classification model get more biased toward predicting the majority class `No` (Mazumder, 2021). Instead of relying only on the accuracy as the main evaluation metric, we should use the F1-score.\n",
    "\n",
    "The F1-score is the harmonic mean of precision and recall. It took into account false positives and false negatives so it is more useful than accuracy in an uneven distribution. In the report, the F1-score of predicting `No` was 0.89 and predicting `Yes` was 0.64. This result was expected since we had less `No` observations to work with. We could be fairly confident with this model when it predicted customers who would not churn. However, when the prediction stated that the customers would churn, we will need to look deeper into those results.\n",
    "\n",
    "#### *E3. Limitation of Analysis*\n",
    "\n",
    "One of the limitation was the imbalanced dependent variable `Churn`. This variable had more class label `No` than `Yes` so it could lead to a bias predictions. Imbalanced data is a common scenarios in real-world data. To counter this, we would need to sample with replacement in future analysis to ensure an even distribution. \n",
    "\n",
    "#### *E4. Recommendations*\n",
    "\n",
    "Based on the model result, the best recommendation to stakeholders is to use the model to predict customers who would not churn and gather data on those customers. This is because the model is much better at predicting class label `No` for churn. By predicting those customers, we could see what characteristics they share. This allows us to target those customers in the future with promotions and lower prices to retain them. The data gathered from them could also be used to perform additional analysis."
   ]
  },
  {
   "cell_type": "markdown",
   "id": "3ebdf2a5-63d1-4d9f-aeeb-4dc62dcf8fc2",
   "metadata": {},
   "source": [
    "### F. Panopto Recording\n",
    "\n",
    "**Link**: https://wgu.hosted.panopto.com/Panopto/Pages/Viewer.aspx?id=de534e6c-3eec-4239-ab0a-ae94003ac282\n",
    "\n",
    "### G. Third-Party Code\n",
    "\n",
    "Scikit-Learn Project. (n.d.). 6.3. Preprocessing data. Scikit-Learn. Retrieved May 11, 2022, from https://scikit-learn.org/stable/modules/preprocessing.html\n",
    "\n",
    "### H. References\n",
    "\n",
    "Bowne-Anderson, H., & Roy, Y. (2022). Supervised Learning with scikit-learn. DataCamp. Retrieved May 11, 2022, from https://app.datacamp.com/learn/courses/supervised-learning-with-scikit-learn\n",
    "\n",
    "Bruce, P., Bruce, A., & Gedeck, P. (2020). Practical Statistics for Data Scientists: 50+ Essential Concepts Using R and Python (2nd ed.). O’Reilly Media.\n",
    "\n",
    "Chatterjee, M. (2021, April 19). The Introduction of KNN Algorithm | What is KNN Algorithm? GreatLearning Blog: Free Resources What Matters to Shape Your Career! Retrieved May 11, 2022, from https://www.mygreatlearning.com/blog/knn-algorithm-introduction/\n",
    "\n",
    "Mazumder, S. (2021, June 23). What is Imbalanced Data | Techniques to Handle Imbalanced Data. Analytics Vidhya. https://www.analyticsvidhya.com/blog/2021/06/5-techniques-to-handle-imbalanced-data-for-a-classification-problem/\n",
    "\n",
    "Narkhede, S. (2022, March 5). Understanding AUC - ROC Curve. Medium. Retrieved May 12, 2022, from https://towardsdatascience.com/understanding-auc-roc-curve-68b2303cc9c5"
   ]
  },
  {
   "cell_type": "code",
   "execution_count": null,
   "id": "3e518732-d142-40e4-8660-314a1a95f9ab",
   "metadata": {},
   "outputs": [],
   "source": []
  }
 ],
 "metadata": {
  "kernelspec": {
   "display_name": "Python 3 (ipykernel)",
   "language": "python",
   "name": "python3"
  },
  "language_info": {
   "codemirror_mode": {
    "name": "ipython",
    "version": 3
   },
   "file_extension": ".py",
   "mimetype": "text/x-python",
   "name": "python",
   "nbconvert_exporter": "python",
   "pygments_lexer": "ipython3",
   "version": "3.10.4"
  }
 },
 "nbformat": 4,
 "nbformat_minor": 5
}
