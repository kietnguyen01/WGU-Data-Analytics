{
 "cells": [
  {
   "cell_type": "markdown",
   "id": "4afa211b-a313-4623-88d4-d0457e7b9d9b",
   "metadata": {},
   "source": [
    "Kiet Nguyen\n",
    "\n",
    "ID: 001601720\n",
    "\n",
    "Email: kngu179@wgu.edu"
   ]
  },
  {
   "cell_type": "markdown",
   "id": "f8695f88-8c09-4c74-addf-b2d7c5d02d55",
   "metadata": {},
   "source": [
    "### A. Purpose of Data Mining Report\n",
    "\n",
    "#### *A1. Relevant Question*\n",
    "\n",
    "Can we predict the amount customers pay monthly based on customers' demographic and account information?\n",
    "\n",
    "#### *A2. Analysis Goal*\n",
    "\n",
    "The goal of this analysis was to see if we could accurately predict `MonthlyCharge` using other variables. Based on previous reports, the amounts that customers pay affected the churn rate. Customers who disconnected service paid more than customers who stayed with the company. If we could identify which customers were likely to paid more, we could create strategies to prevent them from leaving."
   ]
  },
  {
   "cell_type": "markdown",
   "id": "440283f6-29b9-4302-8f0f-678bffafe48e",
   "metadata": {},
   "source": [
    "### B. Method Justification\n",
    "\n",
    "#### *B1. Explanation of Method*\n",
    "\n",
    "Random Forest is an ensemble learning method. It builds a series of decision trees by taking random samples from the original dataset. The trees are then used to classify the observations in the dataset. Since these classifications are unlikely to be unanimous, each classification is a vote for a dependent variable value. The value with the most votes is the final classification result (Larose & Larose, 2019). Since Random Forest combines the results of all the decision trees, it reduces overfitting and improves accuracy. It can automatically handle missing values and do not require scaling for the variables. Our model should perform well with high accuracy in predicting customers' monthly payments.\n",
    "\n",
    "#### *B2. Summary of Assumption*\n",
    "\n",
    "The only assumption Random Forest makes is that sampling is representative. This means if one class in the dataset contained significantly more samples than other classes, the decision trees will be more bias toward classifying the class with more samples (Laptev, 2013).\n",
    "\n",
    "#### *B3. Python Libraries*\n",
    "\n",
    "The libraries used for this analysis were:\n",
    "\n",
    "- `numpy`: efficient numeric computation library.\n",
    "- `pandas`: fast and flexibile data structures, such as Series and DataFrame, for data manipulation.\n",
    "- `matplotlib` and `seaborn`: beautiful graphs and figures for data visualizations.\n",
    "- `scikit-learn`: various functions and classes related to machine learning, such as classification and regression."
   ]
  },
  {
   "cell_type": "markdown",
   "id": "90aa7ae0-e0e7-4f23-9b58-521ffacedf88",
   "metadata": {},
   "source": [
    "### C. Data Preparation\n",
    "\n",
    "#### *C1. Processing Goal*\n",
    "\n",
    "The first step for data preparation was to create a new dataframe\n",
    "containing only the independent and dependent variables.\n",
    "\n",
    "#### *C2. Initial Dataset*\n",
    "\n",
    "The initial dataset contained customers' account and demographic variables. This dataset contained both categorical and continuous variables.\n",
    "\n",
    "The 5 continuous variables were: `Age`, `Children`, `Income`, `Population`, and `Tenure`.\n",
    "\n",
    "The 11 categorical variables were: `Area`, `Contract`, `DeviceProtection`, `Gender`, `InternetService`, `Marital`, `OnlineBackup`, `OnlineSecurity`, `StreamingMovies`, `StreamingTV`, and `TechSupport`.\n",
    "\n",
    "The dependent continuous variable was `MonthlyCharge`.\n",
    "\n",
    "#### *C3. Preparation Steps*\n",
    "\n",
    "The steps to prepare the data were:\n",
    "\n",
    "1. Import libraries and dataset.\n",
    "2. Create new dataframe for relevant variables.\n",
    "3. Explore variables and their basic statistics.\n",
    "4. Visualize variables.\n",
    "5. Encode categorical variables."
   ]
  },
  {
   "cell_type": "code",
   "execution_count": 1,
   "id": "5ca05e73-9e29-499e-be3a-b1f4e71c5561",
   "metadata": {},
   "outputs": [],
   "source": [
    "import numpy as np\n",
    "import pandas as pd\n",
    "import matplotlib.pyplot as plt\n",
    "import seaborn as sns\n",
    "from sklearn.ensemble import RandomForestRegressor\n",
    "from sklearn.model_selection import train_test_split, GridSearchCV\n",
    "from sklearn.metrics import r2_score as R2\n",
    "from sklearn.metrics import mean_squared_error as MSE"
   ]
  },
  {
   "cell_type": "code",
   "execution_count": 2,
   "id": "f8a10283-9ecc-44c6-bdb0-a11f532eb501",
   "metadata": {},
   "outputs": [],
   "source": [
    "# Import dataset\n",
    "churn = pd.read_csv('churn_clean.csv')"
   ]
  },
  {
   "cell_type": "code",
   "execution_count": 3,
   "id": "9c809131-4ae1-49f1-a253-ad7795fe445b",
   "metadata": {},
   "outputs": [],
   "source": [
    "# Create dataframe with relevant variables\n",
    "df = churn[['Age', 'Children', 'Income', 'Population', 'Tenure', 'Area', 'Contract', 'DeviceProtection', 'Gender', 'InternetService',\n",
    "            'Marital', 'MonthlyCharge', 'OnlineBackup', 'OnlineSecurity', 'StreamingMovies', 'StreamingTV', 'TechSupport']].copy()"
   ]
  },
  {
   "cell_type": "code",
   "execution_count": 4,
   "id": "828ac713-b0a8-41b2-bef3-6008624c4b80",
   "metadata": {},
   "outputs": [
    {
     "name": "stdout",
     "output_type": "stream",
     "text": [
      "<class 'pandas.core.frame.DataFrame'>\n",
      "RangeIndex: 10000 entries, 0 to 9999\n",
      "Data columns (total 17 columns):\n",
      " #   Column            Non-Null Count  Dtype  \n",
      "---  ------            --------------  -----  \n",
      " 0   Age               10000 non-null  int64  \n",
      " 1   Children          10000 non-null  int64  \n",
      " 2   Income            10000 non-null  float64\n",
      " 3   Population        10000 non-null  int64  \n",
      " 4   Tenure            10000 non-null  float64\n",
      " 5   Area              10000 non-null  object \n",
      " 6   Contract          10000 non-null  object \n",
      " 7   DeviceProtection  10000 non-null  object \n",
      " 8   Gender            10000 non-null  object \n",
      " 9   InternetService   10000 non-null  object \n",
      " 10  Marital           10000 non-null  object \n",
      " 11  MonthlyCharge     10000 non-null  float64\n",
      " 12  OnlineBackup      10000 non-null  object \n",
      " 13  OnlineSecurity    10000 non-null  object \n",
      " 14  StreamingMovies   10000 non-null  object \n",
      " 15  StreamingTV       10000 non-null  object \n",
      " 16  TechSupport       10000 non-null  object \n",
      "dtypes: float64(3), int64(3), object(11)\n",
      "memory usage: 1.3+ MB\n"
     ]
    }
   ],
   "source": [
    "df.info()"
   ]
  },
  {
   "cell_type": "code",
   "execution_count": 5,
   "id": "879b00a7-7dfa-411a-819f-5415e8222a41",
   "metadata": {},
   "outputs": [
    {
     "data": {
      "text/html": [
       "<div>\n",
       "<style scoped>\n",
       "    .dataframe tbody tr th:only-of-type {\n",
       "        vertical-align: middle;\n",
       "    }\n",
       "\n",
       "    .dataframe tbody tr th {\n",
       "        vertical-align: top;\n",
       "    }\n",
       "\n",
       "    .dataframe thead th {\n",
       "        text-align: right;\n",
       "    }\n",
       "</style>\n",
       "<table border=\"1\" class=\"dataframe\">\n",
       "  <thead>\n",
       "    <tr style=\"text-align: right;\">\n",
       "      <th></th>\n",
       "      <th>Age</th>\n",
       "      <th>Children</th>\n",
       "      <th>Income</th>\n",
       "      <th>Population</th>\n",
       "      <th>Tenure</th>\n",
       "      <th>MonthlyCharge</th>\n",
       "    </tr>\n",
       "  </thead>\n",
       "  <tbody>\n",
       "    <tr>\n",
       "      <th>count</th>\n",
       "      <td>10000.000000</td>\n",
       "      <td>10000.0000</td>\n",
       "      <td>10000.000000</td>\n",
       "      <td>10000.000000</td>\n",
       "      <td>10000.000000</td>\n",
       "      <td>10000.000000</td>\n",
       "    </tr>\n",
       "    <tr>\n",
       "      <th>mean</th>\n",
       "      <td>53.078400</td>\n",
       "      <td>2.0877</td>\n",
       "      <td>39806.926771</td>\n",
       "      <td>9756.562400</td>\n",
       "      <td>34.526188</td>\n",
       "      <td>172.624816</td>\n",
       "    </tr>\n",
       "    <tr>\n",
       "      <th>std</th>\n",
       "      <td>20.698882</td>\n",
       "      <td>2.1472</td>\n",
       "      <td>28199.916702</td>\n",
       "      <td>14432.698671</td>\n",
       "      <td>26.443063</td>\n",
       "      <td>42.943094</td>\n",
       "    </tr>\n",
       "    <tr>\n",
       "      <th>min</th>\n",
       "      <td>18.000000</td>\n",
       "      <td>0.0000</td>\n",
       "      <td>348.670000</td>\n",
       "      <td>0.000000</td>\n",
       "      <td>1.000259</td>\n",
       "      <td>79.978860</td>\n",
       "    </tr>\n",
       "    <tr>\n",
       "      <th>25%</th>\n",
       "      <td>35.000000</td>\n",
       "      <td>0.0000</td>\n",
       "      <td>19224.717500</td>\n",
       "      <td>738.000000</td>\n",
       "      <td>7.917694</td>\n",
       "      <td>139.979239</td>\n",
       "    </tr>\n",
       "    <tr>\n",
       "      <th>50%</th>\n",
       "      <td>53.000000</td>\n",
       "      <td>1.0000</td>\n",
       "      <td>33170.605000</td>\n",
       "      <td>2910.500000</td>\n",
       "      <td>35.430507</td>\n",
       "      <td>167.484700</td>\n",
       "    </tr>\n",
       "    <tr>\n",
       "      <th>75%</th>\n",
       "      <td>71.000000</td>\n",
       "      <td>3.0000</td>\n",
       "      <td>53246.170000</td>\n",
       "      <td>13168.000000</td>\n",
       "      <td>61.479795</td>\n",
       "      <td>200.734725</td>\n",
       "    </tr>\n",
       "    <tr>\n",
       "      <th>max</th>\n",
       "      <td>89.000000</td>\n",
       "      <td>10.0000</td>\n",
       "      <td>258900.700000</td>\n",
       "      <td>111850.000000</td>\n",
       "      <td>71.999280</td>\n",
       "      <td>290.160419</td>\n",
       "    </tr>\n",
       "  </tbody>\n",
       "</table>\n",
       "</div>"
      ],
      "text/plain": [
       "                Age    Children         Income     Population        Tenure  \\\n",
       "count  10000.000000  10000.0000   10000.000000   10000.000000  10000.000000   \n",
       "mean      53.078400      2.0877   39806.926771    9756.562400     34.526188   \n",
       "std       20.698882      2.1472   28199.916702   14432.698671     26.443063   \n",
       "min       18.000000      0.0000     348.670000       0.000000      1.000259   \n",
       "25%       35.000000      0.0000   19224.717500     738.000000      7.917694   \n",
       "50%       53.000000      1.0000   33170.605000    2910.500000     35.430507   \n",
       "75%       71.000000      3.0000   53246.170000   13168.000000     61.479795   \n",
       "max       89.000000     10.0000  258900.700000  111850.000000     71.999280   \n",
       "\n",
       "       MonthlyCharge  \n",
       "count   10000.000000  \n",
       "mean      172.624816  \n",
       "std        42.943094  \n",
       "min        79.978860  \n",
       "25%       139.979239  \n",
       "50%       167.484700  \n",
       "75%       200.734725  \n",
       "max       290.160419  "
      ]
     },
     "execution_count": 5,
     "metadata": {},
     "output_type": "execute_result"
    }
   ],
   "source": [
    "# Explore continuous variables\n",
    "df.describe()"
   ]
  },
  {
   "cell_type": "code",
   "execution_count": 6,
   "id": "036739fe-17ed-4d34-9865-166196f31410",
   "metadata": {},
   "outputs": [
    {
     "data": {
      "text/html": [
       "<div>\n",
       "<style scoped>\n",
       "    .dataframe tbody tr th:only-of-type {\n",
       "        vertical-align: middle;\n",
       "    }\n",
       "\n",
       "    .dataframe tbody tr th {\n",
       "        vertical-align: top;\n",
       "    }\n",
       "\n",
       "    .dataframe thead th {\n",
       "        text-align: right;\n",
       "    }\n",
       "</style>\n",
       "<table border=\"1\" class=\"dataframe\">\n",
       "  <thead>\n",
       "    <tr style=\"text-align: right;\">\n",
       "      <th></th>\n",
       "      <th>Area</th>\n",
       "      <th>Contract</th>\n",
       "      <th>DeviceProtection</th>\n",
       "      <th>Gender</th>\n",
       "      <th>InternetService</th>\n",
       "      <th>Marital</th>\n",
       "      <th>OnlineBackup</th>\n",
       "      <th>OnlineSecurity</th>\n",
       "      <th>StreamingMovies</th>\n",
       "      <th>StreamingTV</th>\n",
       "      <th>TechSupport</th>\n",
       "    </tr>\n",
       "  </thead>\n",
       "  <tbody>\n",
       "    <tr>\n",
       "      <th>count</th>\n",
       "      <td>10000</td>\n",
       "      <td>10000</td>\n",
       "      <td>10000</td>\n",
       "      <td>10000</td>\n",
       "      <td>10000</td>\n",
       "      <td>10000</td>\n",
       "      <td>10000</td>\n",
       "      <td>10000</td>\n",
       "      <td>10000</td>\n",
       "      <td>10000</td>\n",
       "      <td>10000</td>\n",
       "    </tr>\n",
       "    <tr>\n",
       "      <th>unique</th>\n",
       "      <td>3</td>\n",
       "      <td>3</td>\n",
       "      <td>2</td>\n",
       "      <td>3</td>\n",
       "      <td>3</td>\n",
       "      <td>5</td>\n",
       "      <td>2</td>\n",
       "      <td>2</td>\n",
       "      <td>2</td>\n",
       "      <td>2</td>\n",
       "      <td>2</td>\n",
       "    </tr>\n",
       "    <tr>\n",
       "      <th>top</th>\n",
       "      <td>Suburban</td>\n",
       "      <td>Month-to-month</td>\n",
       "      <td>No</td>\n",
       "      <td>Female</td>\n",
       "      <td>Fiber Optic</td>\n",
       "      <td>Divorced</td>\n",
       "      <td>No</td>\n",
       "      <td>No</td>\n",
       "      <td>No</td>\n",
       "      <td>No</td>\n",
       "      <td>No</td>\n",
       "    </tr>\n",
       "    <tr>\n",
       "      <th>freq</th>\n",
       "      <td>3346</td>\n",
       "      <td>5456</td>\n",
       "      <td>5614</td>\n",
       "      <td>5025</td>\n",
       "      <td>4408</td>\n",
       "      <td>2092</td>\n",
       "      <td>5494</td>\n",
       "      <td>6424</td>\n",
       "      <td>5110</td>\n",
       "      <td>5071</td>\n",
       "      <td>6250</td>\n",
       "    </tr>\n",
       "  </tbody>\n",
       "</table>\n",
       "</div>"
      ],
      "text/plain": [
       "            Area        Contract DeviceProtection  Gender InternetService  \\\n",
       "count      10000           10000            10000   10000           10000   \n",
       "unique         3               3                2       3               3   \n",
       "top     Suburban  Month-to-month               No  Female     Fiber Optic   \n",
       "freq        3346            5456             5614    5025            4408   \n",
       "\n",
       "         Marital OnlineBackup OnlineSecurity StreamingMovies StreamingTV  \\\n",
       "count      10000        10000          10000           10000       10000   \n",
       "unique         5            2              2               2           2   \n",
       "top     Divorced           No             No              No          No   \n",
       "freq        2092         5494           6424            5110        5071   \n",
       "\n",
       "       TechSupport  \n",
       "count        10000  \n",
       "unique           2  \n",
       "top             No  \n",
       "freq          6250  "
      ]
     },
     "execution_count": 6,
     "metadata": {},
     "output_type": "execute_result"
    }
   ],
   "source": [
    "# Explore categorical variables\n",
    "df.describe(include='object')"
   ]
  },
  {
   "cell_type": "code",
   "execution_count": 7,
   "id": "690ad06d-66e2-4191-93dd-67f034df96ae",
   "metadata": {},
   "outputs": [
    {
     "data": {
      "image/png": "[encoded data removed]",
      "text/plain": [
       "<Figure size 1152x432 with 6 Axes>"
      ]
     },
     "metadata": {
      "needs_background": "light"
     },
     "output_type": "display_data"
    }
   ],
   "source": [
    "# List of continuous variables\n",
    "cont = df.select_dtypes(include='number').columns.tolist()\n",
    "\n",
    "fig, axes = plt.subplots(2, 3, figsize=(16, 6))\n",
    "\n",
    "# Adapted from seaborn documentation (Waskom, 2022)\n",
    "# https://seaborn.pydata.org/tutorial/color_palettes.html\n",
    "pal = sns.color_palette('bright')\n",
    "\n",
    "# Set up counters\n",
    "row = 0\n",
    "col = 0\n",
    "\n",
    "# Visualize continuous variables with histograms\n",
    "for idx, var in enumerate(cont):\n",
    "    if col == 3:\n",
    "        row += 1\n",
    "        col = 0\n",
    "    sns.histplot(ax=axes[row, col], data=df[var], color=pal[idx])\n",
    "    col += 1\n",
    "\n",
    "plt.tight_layout()\n",
    "plt.show()"
   ]
  },
  {
   "cell_type": "code",
   "execution_count": 8,
   "id": "f2b700d0-f851-485a-b861-e3bd7b634f70",
   "metadata": {},
   "outputs": [
    {
     "data": {
      "image/png": "[encoded data removed]",
      "text/plain": [
       "<Figure size 1152x864 with 11 Axes>"
      ]
     },
     "metadata": {
      "needs_background": "light"
     },
     "output_type": "display_data"
    }
   ],
   "source": [
    "# List of categorical variables\n",
    "cat = df.select_dtypes(include='object').columns.tolist()\n",
    "\n",
    "fig, axes = plt.subplots(4, 3, figsize=(16, 12))\n",
    "\n",
    "# Set up counters\n",
    "row = 0\n",
    "col = 0\n",
    "color = 0\n",
    "\n",
    "# Visualize categorical variables with countplots\n",
    "for var in cat:\n",
    "    if col == 3:\n",
    "        row += 1\n",
    "        col = 0\n",
    "    if color == 10:\n",
    "        color = 0\n",
    "    sns.countplot(ax=axes[row, col], x=var, data=df, color=pal[color])\n",
    "    col += 1\n",
    "    color += 1\n",
    "\n",
    "fig.delaxes(axes[3, 2])\n",
    "plt.tight_layout()\n",
    "plt.show()"
   ]
  },
  {
   "cell_type": "code",
   "execution_count": 9,
   "id": "cab643ea-1053-475f-ac6e-fab499f7af5f",
   "metadata": {},
   "outputs": [],
   "source": [
    "# Encode categorical columns with dummy variables\n",
    "df = pd.get_dummies(df, drop_first=True)"
   ]
  },
  {
   "cell_type": "code",
   "execution_count": 10,
   "id": "6cf9a03b-bab7-4b23-8bfa-aefd9e6109dd",
   "metadata": {},
   "outputs": [
    {
     "name": "stdout",
     "output_type": "stream",
     "text": [
      "<class 'pandas.core.frame.DataFrame'>\n",
      "RangeIndex: 10000 entries, 0 to 9999\n",
      "Data columns (total 24 columns):\n",
      " #   Column                       Non-Null Count  Dtype  \n",
      "---  ------                       --------------  -----  \n",
      " 0   Age                          10000 non-null  int64  \n",
      " 1   Children                     10000 non-null  int64  \n",
      " 2   Income                       10000 non-null  float64\n",
      " 3   Population                   10000 non-null  int64  \n",
      " 4   Tenure                       10000 non-null  float64\n",
      " 5   MonthlyCharge                10000 non-null  float64\n",
      " 6   Area_Suburban                10000 non-null  uint8  \n",
      " 7   Area_Urban                   10000 non-null  uint8  \n",
      " 8   Contract_One year            10000 non-null  uint8  \n",
      " 9   Contract_Two Year            10000 non-null  uint8  \n",
      " 10  DeviceProtection_Yes         10000 non-null  uint8  \n",
      " 11  Gender_Male                  10000 non-null  uint8  \n",
      " 12  Gender_Nonbinary             10000 non-null  uint8  \n",
      " 13  InternetService_Fiber Optic  10000 non-null  uint8  \n",
      " 14  InternetService_None         10000 non-null  uint8  \n",
      " 15  Marital_Married              10000 non-null  uint8  \n",
      " 16  Marital_Never Married        10000 non-null  uint8  \n",
      " 17  Marital_Separated            10000 non-null  uint8  \n",
      " 18  Marital_Widowed              10000 non-null  uint8  \n",
      " 19  OnlineBackup_Yes             10000 non-null  uint8  \n",
      " 20  OnlineSecurity_Yes           10000 non-null  uint8  \n",
      " 21  StreamingMovies_Yes          10000 non-null  uint8  \n",
      " 22  StreamingTV_Yes              10000 non-null  uint8  \n",
      " 23  TechSupport_Yes              10000 non-null  uint8  \n",
      "dtypes: float64(3), int64(3), uint8(18)\n",
      "memory usage: 644.7 KB\n"
     ]
    }
   ],
   "source": [
    "df.info()"
   ]
  },
  {
   "cell_type": "markdown",
   "id": "ab651c96-8c55-4c58-85cf-4060a90b2c15",
   "metadata": {},
   "source": [
    "#### *C4. Export Prepared Data*"
   ]
  },
  {
   "cell_type": "code",
   "execution_count": 11,
   "id": "de2989d2-dfd7-40f8-90cf-bc44d46affd1",
   "metadata": {},
   "outputs": [],
   "source": [
    "# Export prepared data to CSV\n",
    "df.to_csv('churn_prep.csv', index=False)"
   ]
  },
  {
   "cell_type": "markdown",
   "id": "b6143d86-eed5-43e6-a621-e5ab394809d1",
   "metadata": {},
   "source": [
    "### D. Data Analysis\n",
    "\n",
    "#### *D1. Split Data*"
   ]
  },
  {
   "cell_type": "code",
   "execution_count": 12,
   "id": "730cd111-631c-4925-8dee-8e487f9b4942",
   "metadata": {},
   "outputs": [],
   "source": [
    "# Create X and y\n",
    "y = df['MonthlyCharge']\n",
    "X = df.drop('MonthlyCharge', axis=1)\n",
    "\n",
    "# Split data with 30% test set\n",
    "seed = 123\n",
    "X_train, X_test, y_train, y_test = train_test_split(X, y, test_size=0.3, random_state=seed)"
   ]
  },
  {
   "cell_type": "code",
   "execution_count": 13,
   "id": "9c07bed9-c550-400f-8c26-a2a5f591997d",
   "metadata": {},
   "outputs": [],
   "source": [
    "# Export training and testing data\n",
    "X_train.to_csv('X_train.csv', index=False)\n",
    "X_test.to_csv('X_test.csv', index=False)\n",
    "y_train.to_csv('y_train.csv', index=False)\n",
    "y_test.to_csv('y_test.csv', index=False)"
   ]
  },
  {
   "cell_type": "markdown",
   "id": "8abd394f-23a0-414b-8fd2-d5f3b06a641f",
   "metadata": {},
   "source": [
    "#### *D2. Analysis Description*\n",
    "\n",
    "The steps to perform Random Forest regression were:\n",
    "\n",
    "1. Split data into training and testing.\n",
    "2. Fit model and make predictions\n",
    "3. Evaluate model using R<sup>2</sup>, MSE, and RMSE.\n",
    "4. Plot feature importances.\n",
    "5. Remove variables with low importances.\n",
    "6. Refit model and check metrics."
   ]
  },
  {
   "cell_type": "code",
   "execution_count": 14,
   "id": "69ffbce7-0c23-4ef0-918f-50af13963563",
   "metadata": {},
   "outputs": [],
   "source": [
    "# Create default RF regressor\n",
    "rfr = RandomForestRegressor(random_state=seed)\n",
    "\n",
    "# Fit and make predictions\n",
    "rfr.fit(X_train, y_train)\n",
    "y_pred = rfr.predict(X_test)"
   ]
  },
  {
   "cell_type": "code",
   "execution_count": 15,
   "id": "d622375d-8e6d-4d90-bda8-84992a208d43",
   "metadata": {},
   "outputs": [
    {
     "name": "stdout",
     "output_type": "stream",
     "text": [
      "Evaluation Metrics:\n",
      "- R^2: 0.84\n",
      "- MSE: 289.94\n",
      "- RMSE: 17.03\n"
     ]
    }
   ],
   "source": [
    "# Function to evaluate metrics\n",
    "def eval_metrics(x_set, y_set, pred):\n",
    "    r2 = R2(y_set, pred)\n",
    "    mse = MSE(y_set, pred)\n",
    "    rmse = mse**(1/2)\n",
    "    print(f'Evaluation Metrics:\\n- R^2: {r2:.2f}\\n- MSE: {mse:.2f}\\n- RMSE: {rmse:.2f}')\n",
    "    \n",
    "eval_metrics(X_test, y_test, y_pred)"
   ]
  },
  {
   "cell_type": "code",
   "execution_count": 16,
   "id": "cce8b716-24c6-407e-8b64-d51f5296acd3",
   "metadata": {},
   "outputs": [
    {
     "data": {
      "image/png": "[encoded data removed]",
      "text/plain": [
       "<Figure size 1296x576 with 1 Axes>"
      ]
     },
     "metadata": {
      "needs_background": "light"
     },
     "output_type": "display_data"
    }
   ],
   "source": [
    "# Create dataframe of feature importances\n",
    "importances_rf = pd.DataFrame({'Variable': X.columns, 'Importance': rfr.feature_importances_})\n",
    "importances_rf.sort_values(by=['Importance'], inplace=True, ascending=False)\n",
    "\n",
    "# Barplots of feature importances\n",
    "plt.figure(figsize=(18, 8))\n",
    "ax = sns.barplot(x='Importance', y='Variable', data=importances_rf)\n",
    "\n",
    "# Adapted from Stackoverflow\n",
    "# https://stackoverflow.com/questions/43214978/seaborn-barplot-displaying-values\n",
    "ax.bar_label(ax.containers[0])\n",
    "\n",
    "plt.tight_layout()\n",
    "plt.show()"
   ]
  },
  {
   "cell_type": "code",
   "execution_count": 17,
   "id": "669f203f-cb56-43d1-9a1b-16cc9d86e94a",
   "metadata": {},
   "outputs": [],
   "source": [
    "# Remove variables with importance less than 0.01\n",
    "df.drop(['OnlineSecurity_Yes', 'Gender_Male', 'Marital_Separated', 'Marital_Never Married', 'Contract_Two Year', 'Area_Urban', \n",
    "         'Marital_Widowed', 'Contract_One year', 'Marital_Married', 'Area_Suburban', 'Gender_Nonbinary'], axis=1, inplace=True)"
   ]
  },
  {
   "cell_type": "code",
   "execution_count": 18,
   "id": "35a5335c-bd5a-49dc-ba81-2c1044bbb0ec",
   "metadata": {},
   "outputs": [
    {
     "name": "stdout",
     "output_type": "stream",
     "text": [
      "<class 'pandas.core.frame.DataFrame'>\n",
      "RangeIndex: 10000 entries, 0 to 9999\n",
      "Data columns (total 13 columns):\n",
      " #   Column                       Non-Null Count  Dtype  \n",
      "---  ------                       --------------  -----  \n",
      " 0   Age                          10000 non-null  int64  \n",
      " 1   Children                     10000 non-null  int64  \n",
      " 2   Income                       10000 non-null  float64\n",
      " 3   Population                   10000 non-null  int64  \n",
      " 4   Tenure                       10000 non-null  float64\n",
      " 5   MonthlyCharge                10000 non-null  float64\n",
      " 6   DeviceProtection_Yes         10000 non-null  uint8  \n",
      " 7   InternetService_Fiber Optic  10000 non-null  uint8  \n",
      " 8   InternetService_None         10000 non-null  uint8  \n",
      " 9   OnlineBackup_Yes             10000 non-null  uint8  \n",
      " 10  StreamingMovies_Yes          10000 non-null  uint8  \n",
      " 11  StreamingTV_Yes              10000 non-null  uint8  \n",
      " 12  TechSupport_Yes              10000 non-null  uint8  \n",
      "dtypes: float64(3), int64(3), uint8(7)\n",
      "memory usage: 537.2 KB\n"
     ]
    }
   ],
   "source": [
    "df.info()"
   ]
  },
  {
   "cell_type": "code",
   "execution_count": 19,
   "id": "fa5ac763-968e-4ebc-97a6-b6a3c0890258",
   "metadata": {},
   "outputs": [],
   "source": [
    "# Create X and y again with new data\n",
    "y = df['MonthlyCharge']\n",
    "X = df.drop('MonthlyCharge', axis=1)\n",
    "\n",
    "# Split new data with 30% test set\n",
    "X_train, X_test, y_train, y_test = train_test_split(X, y, test_size=0.3, random_state=seed)"
   ]
  },
  {
   "cell_type": "code",
   "execution_count": 20,
   "id": "60ee5cc8-beb1-4472-87da-f67d08b4fadd",
   "metadata": {},
   "outputs": [
    {
     "name": "stdout",
     "output_type": "stream",
     "text": [
      "Fitting 3 folds for each of 18 candidates, totalling 54 fits\n"
     ]
    },
    {
     "data": {
      "text/plain": [
       "GridSearchCV(cv=3, estimator=RandomForestRegressor(random_state=123), n_jobs=-1,\n",
       "             param_grid={'max_features': ['log2', 'sqrt'],\n",
       "                         'min_samples_leaf': [4, 6, 8],\n",
       "                         'n_estimators': [300, 400, 500]},\n",
       "             scoring='r2', verbose=1)"
      ]
     },
     "execution_count": 20,
     "metadata": {},
     "output_type": "execute_result"
    }
   ],
   "source": [
    "# Hyperparameters to tune\n",
    "params_rfr = {\n",
    "    'n_estimators': [300, 400, 500],\n",
    "    'min_samples_leaf': [4, 6, 8],\n",
    "    'max_features': ['log2', 'sqrt'],\n",
    "}\n",
    "\n",
    "# Create grid search CV object\n",
    "grid_rfr = GridSearchCV(\n",
    "    estimator=rfr,\n",
    "    param_grid=params_rfr,\n",
    "    scoring='r2',\n",
    "    cv=3,\n",
    "    verbose=1,\n",
    "    n_jobs=-1\n",
    ")\n",
    "\n",
    "# Fit and tune model\n",
    "grid_rfr.fit(X_train, y_train)"
   ]
  },
  {
   "cell_type": "code",
   "execution_count": 21,
   "id": "1f94529b-b408-4f1c-b93e-7da5bb204e5a",
   "metadata": {},
   "outputs": [
    {
     "data": {
      "text/plain": [
       "{'max_features': 'log2', 'min_samples_leaf': 4, 'n_estimators': 400}"
      ]
     },
     "execution_count": 21,
     "metadata": {},
     "output_type": "execute_result"
    }
   ],
   "source": [
    "# Check best hyperparameters\n",
    "grid_rfr.best_params_"
   ]
  },
  {
   "cell_type": "code",
   "execution_count": 22,
   "id": "0a60a93f-3f0a-43ab-ad71-96f5519f211c",
   "metadata": {},
   "outputs": [
    {
     "name": "stdout",
     "output_type": "stream",
     "text": [
      "Evaluation Metrics:\n",
      "- R^2: 0.85\n",
      "- MSE: 280.80\n",
      "- RMSE: 16.76\n"
     ]
    }
   ],
   "source": [
    "# Extract best model to make predictions\n",
    "best_model = grid_rfr.best_estimator_\n",
    "y_pred = best_model.predict(X_test)\n",
    "\n",
    "# Check metrics of best model\n",
    "eval_metrics(X_test, y_test, y_pred)"
   ]
  },
  {
   "cell_type": "markdown",
   "id": "c1e67ce1-b048-450b-82e7-cda97c8bc435",
   "metadata": {},
   "source": [
    "#### *D3. Analysis Code*\n",
    "\n",
    "The code used to perform Random Forest regression and grid search CV could be found in section D2 above."
   ]
  },
  {
   "cell_type": "markdown",
   "id": "9dc1b5e7-0ab2-4b8e-8a0c-1cfc81be011d",
   "metadata": {},
   "source": [
    "### E. Analysis Summary\n",
    "\n",
    "#### *E1. Explanation of Metrics*\n",
    "\n",
    "Random Forest regression uses the coefficient of determination, R<sup>2</sup> as the accuracy metric. R<sup>2</sup> is a goodness-of-fit measure. It indicates the percentage of variance in `MonthlyCharge` that can be explained by the independent variables (Fernando, 2021). Our model produced a score of 0.85, that means 85% of the observed variation could be explained by the model's inputs. This also indicates a strong positive relationship between independent and dependent variables.\n",
    "\n",
    "The mean squared error (MSE) measures the amount of error in the model. It calculates the average squared difference between the observed and predicted values. As model error increases, MSE also increases (Frost, 2021). However, since the values of MSE are squared, they are less intuitive to understand. RMSE is the square root of MSE that is easier to interpret. RMSE is the distance between predicted and actual values. In the model, the RMSE was 16.76. Given `MonthlyCharge` as the dependent variable, that means the average difference between our predictions and actual values were only $16.76."
   ]
  },
  {
   "cell_type": "markdown",
   "id": "9b11a903-d481-4e31-aaae-5c606f3fb297",
   "metadata": {},
   "source": [
    "#### *E2. Analysis Results*\n",
    "\n",
    "In the initial model, I used 23 independent variables to perform Random Forest regression. The results were:\n",
    "\n",
    "- R<sup>2</sup>: 0.84\n",
    "- MSE: 289.94\n",
    "- RMSE: 17.03\n",
    "\n",
    "These initial metrics were promising because the R<sup>2</sup> value indicated a high correlation between the dependent and independent variables. I also calculated the MSE and RMSE as reference for the model error. Random Forest also calculated the features importance during training. This allowed us to visualize the importances and removed 11 variables that did not contribute much to the model. To improve the model, I also used grid search and cross-validation to tune the hyperparameters. The new results were:\n",
    "\n",
    "- R<sup>2</sup>: 0.85\n",
    "- MSE: 280.80\n",
    "- RMSE: 16.76\n",
    "\n",
    "The improved metrics indicated that the model performed better in all aspects. Even though the improvements were not significant, they were still better despite using only half of the initial variables. With the high R<sup>2</sup> and low RMSE value, we could be confident to use our model to predict the monthly payments for new customers in the future.\n",
    "\n",
    "#### *E3. Limitation of Analysis*\n",
    "\n",
    "One limitation of our analysis was how computationally expensive it was. Combining Random Forest, grid search, and cross-validation together made the training time significantly longer. I had to test out different number of hyperparameters and cross-validation folds to made sure the model perform well enough in a short amount of time. To counter this, I can use randomized search cross-validation in future analysis.\n",
    "\n",
    "#### *E4. Recommendatioon*\n",
    "\n",
    "The recommendation is to use this model to predict how much new customers would be expected to pay given specific variables. This allows us to see if a customer is paying too much. In previous reports, we identified that customers who churn paid significantly more for their services. By seeing how much new customers will pay, we have the chance to offer them promotions or lower payments to prevent them from leaving."
   ]
  },
  {
   "cell_type": "markdown",
   "id": "b175c1b2-ee78-441d-af1d-c87ca71c824c",
   "metadata": {},
   "source": [
    "### F. Panopto Recording\n",
    "\n",
    "**Link**: https://wgu.hosted.panopto.com/Panopto/Pages/Viewer.aspx?id=4a8dbeea-5d57-48c4-bdff-ae98008e56ba\n",
    "\n",
    "### G. Third-Party Code\n",
    "\n",
    "Waskom, M. (2022). Choosing color palettes — seaborn 0.11.2 documentation. Seaborn Documentation. Retrieved April 27, 2022, from https://seaborn.pydata.org/tutorial/color_palettes.html\n",
    "\n",
    "Seaborn Barplot - Displaying Values. (2017, April 4). Stack Overflow. Retrieved May 14, 2022, from https://stackoverflow.com/questions/43214978/seaborn-barplot-displaying-values\n",
    "\n",
    "### H. References\n",
    "\n",
    "Fernando, S. (2021, September 12). What Is R-Squared? Investopedia. Retrieved May 14, 2022, from https://www.investopedia.com/terms/r/r-squared.asp\n",
    "\n",
    "Frost, J. (2021, November 14). Mean Squared Error (MSE). Statistics By Jim. Retrieved May 14, 2022, from https://statisticsbyjim.com/regression/mean-squared-error-mse/\n",
    "\n",
    "Laptev, D. (2013, May 15). Random forest assumptions. Cross Validated. Retrieved May 13, 2022, from https://stats.stackexchange.com/questions/59124/random-forest-assumptions\n",
    "\n",
    "Larose, C. D., & Larose, D. T. (2019). Data Science Using Python and R. Wiley."
   ]
  }
 ],
 "metadata": {
  "kernelspec": {
   "display_name": "Python 3 (ipykernel)",
   "language": "python",
   "name": "python3"
  },
  "language_info": {
   "codemirror_mode": {
    "name": "ipython",
    "version": 3
   },
   "file_extension": ".py",
   "mimetype": "text/x-python",
   "name": "python",
   "nbconvert_exporter": "python",
   "pygments_lexer": "ipython3",
   "version": "3.10.4"
  }
 },
 "nbformat": 4,
 "nbformat_minor": 5
}
